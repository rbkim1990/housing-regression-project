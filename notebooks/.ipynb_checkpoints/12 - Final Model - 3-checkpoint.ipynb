{
 "cells": [
  {
   "cell_type": "markdown",
   "metadata": {},
   "source": [
    "# Final Model 3"
   ]
  },
  {
   "cell_type": "markdown",
   "metadata": {},
   "source": [
    "_This model will use the information gleaned from the numerical and categorical columns and tests, and hope to create the best model for use._"
   ]
  },
  {
   "cell_type": "code",
   "execution_count": 234,
   "metadata": {},
   "outputs": [],
   "source": [
    "import pandas as pd\n",
    "import numpy as np\n",
    "import matplotlib.pyplot as plt\n",
    "from sklearn.model_selection import train_test_split\n",
    "from sklearn.linear_model import LassoCV\n",
    "from sklearn.preprocessing import StandardScaler, PolynomialFeatures\n",
    "from sklearn.metrics import mean_squared_error\n",
    "\n",
    "%matplotlib inline"
   ]
  },
  {
   "cell_type": "code",
   "execution_count": 235,
   "metadata": {},
   "outputs": [],
   "source": [
    "num_train = pd.read_csv('../datasets/num_train.csv')\n",
    "cat_train = pd.read_csv('../datasets/cat_train.csv')\n",
    "num_test = pd.read_csv('../datasets/num_test.csv')\n",
    "cat_test = pd.read_csv('../datasets/cat_test.csv')\n",
    "train = pd.read_csv('../datasets/train.csv')\n",
    "test = pd.read_csv('../datasets/test.csv')"
   ]
  },
  {
   "cell_type": "code",
   "execution_count": 236,
   "metadata": {},
   "outputs": [],
   "source": [
    "X_num_train = num_train[['Overall Qual', 'Lot Area', 'Year Built', 'Year Remod/Add', \n",
    "                         'Mas Vnr Area','BsmtFin SF 1', 'Total Bsmt SF', '1st Flr SF', \n",
    "                         'Gr Liv Area', 'Garage Area', 'Wood Deck SF', 'Screen Porch', \n",
    "                         'Pool Area', 'Misc Val', 'Kitchen Qual', 'Exter Qual', 'Bsmt Qual',\n",
    "                         'Garage Cars', 'Garage Finish']]\n",
    "\n",
    "y = train['SalePrice']\n",
    "\n",
    "X_num_test = num_test [['Overall Qual', 'Lot Area', 'Year Built', 'Year Remod/Add', \n",
    "                        'Mas Vnr Area','Total Bsmt SF', 'BsmtFin SF 1', '1st Flr SF', \n",
    "                        'Gr Liv Area', 'Garage Area', 'Wood Deck SF', 'Screen Porch', \n",
    "                        'Pool Area', 'Misc Val', 'Kitchen Qual', 'Exter Qual', 'Bsmt Qual',\n",
    "                        'Garage Cars', 'Garage Finish']]"
   ]
  },
  {
   "cell_type": "code",
   "execution_count": 237,
   "metadata": {},
   "outputs": [
    {
     "name": "stderr",
     "output_type": "stream",
     "text": [
      "/anaconda3/lib/python3.6/site-packages/sklearn/preprocessing/data.py:625: DataConversionWarning: Data with input dtype int64, float64 were all converted to float64 by StandardScaler.\n",
      "  return self.partial_fit(X, y)\n",
      "/anaconda3/lib/python3.6/site-packages/sklearn/base.py:462: DataConversionWarning: Data with input dtype int64, float64 were all converted to float64 by StandardScaler.\n",
      "  return self.fit(X, **fit_params).transform(X)\n",
      "/anaconda3/lib/python3.6/site-packages/ipykernel_launcher.py:3: DataConversionWarning: Data with input dtype int64, float64 were all converted to float64 by StandardScaler.\n",
      "  This is separate from the ipykernel package so we can avoid doing imports until\n"
     ]
    }
   ],
   "source": [
    "ss = StandardScaler()\n",
    "X_nums = pd.DataFrame(ss.fit_transform(X_num_train), columns = X_num_train.columns)\n",
    "X_nums_final = pd.DataFrame(ss.transform(X_num_test), columns = X_num_test.columns)"
   ]
  },
  {
   "cell_type": "code",
   "execution_count": 238,
   "metadata": {},
   "outputs": [],
   "source": [
    "X_cat_train = cat_train[['Neighborhood_BrkSide', 'Neighborhood_Edwards', 'Neighborhood_NoRidge',\n",
    "                         'Neighborhood_NridgHt', 'Neighborhood_OldTown',\n",
    "                         'Neighborhood_StoneBr', 'Exterior 1st_CemntBd']]\n",
    "\n",
    "X_cat_final = cat_test[['Neighborhood_BrkSide', 'Neighborhood_Edwards', 'Neighborhood_NoRidge',\n",
    "                         'Neighborhood_NridgHt', 'Neighborhood_OldTown',\n",
    "                         'Neighborhood_StoneBr', 'Exterior 1st_CemntBd']]"
   ]
  },
  {
   "cell_type": "code",
   "execution_count": 239,
   "metadata": {},
   "outputs": [],
   "source": [
    "X = pd.concat([X_nums, X_cat_train], axis = 1, sort = False)\n",
    "X_final = pd.concat([X_nums_final, X_cat_final], axis = 1, sort = False)"
   ]
  },
  {
   "cell_type": "code",
   "execution_count": 240,
   "metadata": {},
   "outputs": [],
   "source": [
    "X_train, X_test, y_train, y_test = train_test_split(X, y, random_state = 42)"
   ]
  },
  {
   "cell_type": "code",
   "execution_count": 241,
   "metadata": {},
   "outputs": [
    {
     "data": {
      "text/plain": [
       "0.8774273301359881"
      ]
     },
     "execution_count": 241,
     "metadata": {},
     "output_type": "execute_result"
    }
   ],
   "source": [
    "lasso = LassoCV(n_alphas = 300, cv = 5)\n",
    "lasso.fit(X_train, y_train)\n",
    "lasso.score(X_test, y_test)"
   ]
  },
  {
   "cell_type": "code",
   "execution_count": 242,
   "metadata": {
    "scrolled": false
   },
   "outputs": [],
   "source": [
    "cols = [col for col, val in enumerate(lasso.coef_) if val != 0]"
   ]
  },
  {
   "cell_type": "code",
   "execution_count": 243,
   "metadata": {},
   "outputs": [
    {
     "data": {
      "text/plain": [
       "Index(['Overall Qual', 'Lot Area', 'Year Built', 'Year Remod/Add',\n",
       "       'Mas Vnr Area', 'BsmtFin SF 1', 'Total Bsmt SF', '1st Flr SF',\n",
       "       'Gr Liv Area', 'Garage Area', 'Wood Deck SF', 'Screen Porch',\n",
       "       'Pool Area', 'Misc Val', 'Kitchen Qual', 'Exter Qual', 'Bsmt Qual',\n",
       "       'Garage Cars', 'Garage Finish', 'Neighborhood_BrkSide',\n",
       "       'Neighborhood_Edwards', 'Neighborhood_NoRidge', 'Neighborhood_NridgHt',\n",
       "       'Neighborhood_OldTown', 'Neighborhood_StoneBr', 'Exterior 1st_CemntBd'],\n",
       "      dtype='object')"
      ]
     },
     "execution_count": 243,
     "metadata": {},
     "output_type": "execute_result"
    }
   ],
   "source": [
    "X_train.columns[cols]"
   ]
  },
  {
   "cell_type": "code",
   "execution_count": 244,
   "metadata": {},
   "outputs": [],
   "source": [
    "y_hat = lasso.predict(X_test)"
   ]
  },
  {
   "cell_type": "code",
   "execution_count": 245,
   "metadata": {},
   "outputs": [
    {
     "data": {
      "text/plain": [
       "<matplotlib.collections.PathCollection at 0x1a2bb354a8>"
      ]
     },
     "execution_count": 245,
     "metadata": {},
     "output_type": "execute_result"
    },
    {
     "data": {
      "image/png": "[encoded data removed]",
      "text/plain": [
       "<Figure size 432x288 with 1 Axes>"
      ]
     },
     "metadata": {
      "needs_background": "light"
     },
     "output_type": "display_data"
    }
   ],
   "source": [
    "plt.scatter(y_hat, y_test)"
   ]
  },
  {
   "cell_type": "code",
   "execution_count": 246,
   "metadata": {},
   "outputs": [
    {
     "data": {
      "text/plain": [
       "27433.54195551988"
      ]
     },
     "execution_count": 246,
     "metadata": {},
     "output_type": "execute_result"
    }
   ],
   "source": [
    "mean_squared_error(y_test, y_hat) ** 0.5"
   ]
  },
  {
   "cell_type": "code",
   "execution_count": 232,
   "metadata": {},
   "outputs": [],
   "source": [
    "y_hat = lasso.predict(X_final)"
   ]
  },
  {
   "cell_type": "code",
   "execution_count": 233,
   "metadata": {},
   "outputs": [
    {
     "name": "stderr",
     "output_type": "stream",
     "text": [
      "/anaconda3/lib/python3.6/site-packages/ipykernel_launcher.py:2: SettingWithCopyWarning: \n",
      "A value is trying to be set on a copy of a slice from a DataFrame.\n",
      "Try using .loc[row_indexer,col_indexer] = value instead\n",
      "\n",
      "See the caveats in the documentation: http://pandas.pydata.org/pandas-docs/stable/indexing.html#indexing-view-versus-copy\n",
      "  \n"
     ]
    }
   ],
   "source": [
    "submission = test[['Id']]\n",
    "submission['SalePrice'] = y_hat\n",
    "submission.to_csv('../submissions/submission19.csv', index=False)"
   ]
  }
 ],
 "metadata": {
  "kernelspec": {
   "display_name": "Python 3",
   "language": "python",
   "name": "python3"
  },
  "language_info": {
   "codemirror_mode": {
    "name": "ipython",
    "version": 3
   },
   "file_extension": ".py",
   "mimetype": "text/x-python",
   "name": "python",
   "nbconvert_exporter": "python",
   "pygments_lexer": "ipython3",
   "version": "3.6.6"
  }
 },
 "nbformat": 4,
 "nbformat_minor": 2
}

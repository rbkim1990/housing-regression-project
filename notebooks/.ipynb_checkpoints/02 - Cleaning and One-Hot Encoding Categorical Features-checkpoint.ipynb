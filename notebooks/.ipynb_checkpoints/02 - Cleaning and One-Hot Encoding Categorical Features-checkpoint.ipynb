{
 "cells": [
  {
   "cell_type": "markdown",
   "metadata": {},
   "source": [
    "# Cleaning and One-Hot Encoding Categorical Features"
   ]
  },
  {
   "cell_type": "markdown",
   "metadata": {},
   "source": [
    "_This notebook is dedicated to cleaning, choosing, and one-hot encoding categorical data._"
   ]
  },
  {
   "cell_type": "code",
   "execution_count": 28,
   "metadata": {},
   "outputs": [],
   "source": [
    "import pandas as pd\n",
    "import matplotlib.pyplot as plt\n",
    "import seaborn as sns\n",
    "from sklearn.model_selection import train_test_split, cross_val_score\n",
    "from sklearn.linear_model import LassoCV"
   ]
  },
  {
   "cell_type": "markdown",
   "metadata": {},
   "source": [
    "_Reading in two copies of the train and test data set to add a column later._  \n",
    "_Note: This is probably bad practice to work directly on the \"test\" DataFrame, but I thought I might get more confused later._"
   ]
  },
  {
   "cell_type": "code",
   "execution_count": 2,
   "metadata": {},
   "outputs": [],
   "source": [
    "test = pd.read_csv('../datasets/test_clean.csv')\n",
    "train = pd.read_csv('../datasets/train_clean.csv')\n",
    "test1 = pd.read_csv('../datasets/test_clean.csv')\n",
    "train1 = pd.read_csv('../datasets/train_clean.csv')"
   ]
  },
  {
   "cell_type": "code",
   "execution_count": 3,
   "metadata": {},
   "outputs": [
    {
     "data": {
      "text/plain": [
       "(879, 80)"
      ]
     },
     "execution_count": 3,
     "metadata": {},
     "output_type": "execute_result"
    }
   ],
   "source": [
    "test.shape"
   ]
  },
  {
   "cell_type": "code",
   "execution_count": 4,
   "metadata": {},
   "outputs": [
    {
     "data": {
      "text/plain": [
       "(2051, 81)"
      ]
     },
     "execution_count": 4,
     "metadata": {},
     "output_type": "execute_result"
    }
   ],
   "source": [
    "train.shape"
   ]
  },
  {
   "cell_type": "code",
   "execution_count": 5,
   "metadata": {},
   "outputs": [],
   "source": [
    "# Getting the non-numerical columns in the features\n",
    "non_num_col_train = [col for col in train.columns if col not in train._get_numeric_data().columns]\n",
    "non_num_col_test = [col for col in test.columns if col not in train._get_numeric_data().columns]"
   ]
  },
  {
   "cell_type": "markdown",
   "metadata": {},
   "source": [
    "_Newly updated 'train' and 'test' DataFrames with only non-numerical columns._"
   ]
  },
  {
   "cell_type": "code",
   "execution_count": 6,
   "metadata": {},
   "outputs": [],
   "source": [
    "train = pd.DataFrame(train[non_num_col_train])\n",
    "test = pd.DataFrame(test[non_num_col_test])"
   ]
  },
  {
   "cell_type": "code",
   "execution_count": 7,
   "metadata": {},
   "outputs": [
    {
     "data": {
      "text/plain": [
       "(879, 42)"
      ]
     },
     "execution_count": 7,
     "metadata": {},
     "output_type": "execute_result"
    }
   ],
   "source": [
    "test.shape"
   ]
  },
  {
   "cell_type": "markdown",
   "metadata": {},
   "source": [
    "_I realized that there were a few columns that could essentially be converted to numerical columns (ie. Exterior Quality is scaled from Poor to Excellent, and can be converted to a numerical scale). Therefore, I created a few functions to help me in that process._"
   ]
  },
  {
   "cell_type": "code",
   "execution_count": 8,
   "metadata": {},
   "outputs": [],
   "source": [
    "def one_to_five_scale(x):\n",
    "    if x == 'Ex':\n",
    "        return 5\n",
    "    elif x == 'Gd':\n",
    "        return 4\n",
    "    elif x == 'TA':\n",
    "        return 3\n",
    "    elif x =='Fa':\n",
    "        return 2\n",
    "    else:\n",
    "        return 1\n",
    "\n",
    "def fin_type(x):\n",
    "    if x == 'GLQ':\n",
    "        return 6\n",
    "    elif x == 'ALQ':\n",
    "        return 5\n",
    "    elif x == 'BLQ':\n",
    "        return 4\n",
    "    elif x == 'Rec':\n",
    "        return 3\n",
    "    elif x == 'LwQ':\n",
    "        return 2\n",
    "    elif x == 'Unf':\n",
    "        return 1\n",
    "    else:\n",
    "        return 0\n",
    "    \n",
    "def functionally(x):\n",
    "    if x == 'Typ':\n",
    "        return 7\n",
    "    elif x == 'Min1':\n",
    "        return 6\n",
    "    elif x == 'Min2':\n",
    "        return 5\n",
    "    elif x == 'Mod':\n",
    "        return 4\n",
    "    elif x == 'Maj1':\n",
    "        return 3\n",
    "    elif x == 'Maj2':\n",
    "        return 2\n",
    "    elif x == 'Sev':\n",
    "        return 1\n",
    "    else:\n",
    "        return 0\n",
    "\n",
    "def garage_finish(x):\n",
    "    if x == 'Fin':\n",
    "        return 3\n",
    "    elif x == 'RFn':\n",
    "        return 2\n",
    "    elif x == 'Unf':\n",
    "        return 1\n",
    "    else:\n",
    "        return 0"
   ]
  },
  {
   "cell_type": "markdown",
   "metadata": {},
   "source": [
    "_Applied the functions to the columns, saved each of them into separate Series, then created a DataFrame to house all of the \"Non-Catgerical\" features. Did this for both the train and the test data. Finally, saved them into separate csv files._"
   ]
  },
  {
   "cell_type": "code",
   "execution_count": 9,
   "metadata": {},
   "outputs": [],
   "source": [
    "exterqual = train['Exter Qual'].apply(one_to_five_scale)\n",
    "extercond = train['Exter Cond'].apply(one_to_five_scale)\n",
    "bsmtqual  = train['Bsmt Qual'].apply(one_to_five_scale)\n",
    "bsmtcond  = train['Bsmt Cond'].apply(one_to_five_scale)\n",
    "bsmtfintype1 = train['BsmtFin Type 1'].apply(fin_type)\n",
    "bsmtfintype2 = train['BsmtFin Type 2'].apply(fin_type)\n",
    "heatingqc = train['Heating QC'].apply(one_to_five_scale)\n",
    "kitchenqual = train['Kitchen Qual'].apply(one_to_five_scale)\n",
    "functional = train['Functional'].apply(functionally)\n",
    "fireplacequ = train['Fireplace Qu'].apply(one_to_five_scale)\n",
    "garagefinish = train['Garage Finish'].apply(garage_finish)\n",
    "garagequal = train['Garage Qual'].apply(one_to_five_scale)\n",
    "garagecond = train['Garage Cond'].apply(one_to_five_scale)\n",
    "poolqc = train['Pool QC'].apply(one_to_five_scale)"
   ]
  },
  {
   "cell_type": "code",
   "execution_count": 10,
   "metadata": {},
   "outputs": [],
   "source": [
    "Not_categorical_train = pd.DataFrame()"
   ]
  },
  {
   "cell_type": "code",
   "execution_count": 11,
   "metadata": {},
   "outputs": [],
   "source": [
    "Not_categorical_train['Exter Qual'] = exterqual\n",
    "Not_categorical_train['Exter Cond'] = extercond\n",
    "Not_categorical_train['Bsmt Qual'] = bsmtqual\n",
    "Not_categorical_train['Bsmt Cond'] = bsmtcond\n",
    "Not_categorical_train['BsmtFin Type 1'] = bsmtfintype1\n",
    "Not_categorical_train['BsmtFin Type 2'] = bsmtfintype2\n",
    "Not_categorical_train['Heating QC'] = heatingqc\n",
    "Not_categorical_train['Kitchen Qual'] = kitchenqual\n",
    "Not_categorical_train['Functional'] = functional\n",
    "Not_categorical_train['Fireplace Qu'] = fireplacequ\n",
    "Not_categorical_train['Garage Finish'] = garagefinish\n",
    "Not_categorical_train['Garage Qual'] = garagequal\n",
    "Not_categorical_train['Garage Cond'] = garagecond\n",
    "Not_categorical_train['Pool QC'] = poolqc"
   ]
  },
  {
   "cell_type": "code",
   "execution_count": 12,
   "metadata": {},
   "outputs": [],
   "source": [
    "Not_categorical_train.to_csv('../datasets/noncat_train.csv', index = False)"
   ]
  },
  {
   "cell_type": "code",
   "execution_count": 13,
   "metadata": {},
   "outputs": [
    {
     "data": {
      "text/plain": [
       "(2051, 14)"
      ]
     },
     "execution_count": 13,
     "metadata": {},
     "output_type": "execute_result"
    }
   ],
   "source": [
    "Not_categorical_train.shape"
   ]
  },
  {
   "cell_type": "code",
   "execution_count": 14,
   "metadata": {},
   "outputs": [],
   "source": [
    "exterqual = test['Exter Qual'].apply(one_to_five_scale)\n",
    "extercond = test['Exter Cond'].apply(one_to_five_scale)\n",
    "bsmtqual  = test['Bsmt Qual'].apply(one_to_five_scale)\n",
    "bsmtcond  = test['Bsmt Cond'].apply(one_to_five_scale)\n",
    "bsmtfintype1 = test['BsmtFin Type 1'].apply(fin_type)\n",
    "bsmtfintype2 = test['BsmtFin Type 2'].apply(fin_type)\n",
    "heatingqc = test['Heating QC'].apply(one_to_five_scale)\n",
    "kitchenqual = test['Kitchen Qual'].apply(one_to_five_scale)\n",
    "functional = test['Functional'].apply(functionally)\n",
    "fireplacequ = test['Fireplace Qu'].apply(one_to_five_scale)\n",
    "garagefinish = test['Garage Finish'].apply(garage_finish)\n",
    "garagequal = test['Garage Qual'].apply(one_to_five_scale)\n",
    "garagecond = test['Garage Cond'].apply(one_to_five_scale)\n",
    "poolqc = test['Pool QC'].apply(one_to_five_scale)"
   ]
  },
  {
   "cell_type": "code",
   "execution_count": 15,
   "metadata": {},
   "outputs": [],
   "source": [
    "Not_categorical_test = pd.DataFrame()"
   ]
  },
  {
   "cell_type": "code",
   "execution_count": 16,
   "metadata": {},
   "outputs": [],
   "source": [
    "Not_categorical_test['Exter Qual'] = exterqual\n",
    "Not_categorical_test['Exter Cond'] = extercond\n",
    "Not_categorical_test['Bsmt Qual'] = bsmtqual\n",
    "Not_categorical_test['Bsmt Cond'] = bsmtcond\n",
    "Not_categorical_test['BsmtFin Type 1'] = bsmtfintype1\n",
    "Not_categorical_test['BsmtFin Type 2'] = bsmtfintype2\n",
    "Not_categorical_test['Heating QC'] = heatingqc\n",
    "Not_categorical_test['Kitchen Qual'] = kitchenqual\n",
    "Not_categorical_test['Functional'] = functional\n",
    "Not_categorical_test['Fireplace Qu'] = fireplacequ\n",
    "Not_categorical_test['Garage Finish'] = garagefinish\n",
    "Not_categorical_test['Garage Qual'] = garagequal\n",
    "Not_categorical_test['Garage Cond'] = garagecond\n",
    "Not_categorical_test['Pool QC'] = poolqc"
   ]
  },
  {
   "cell_type": "code",
   "execution_count": 17,
   "metadata": {},
   "outputs": [
    {
     "data": {
      "text/plain": [
       "(879, 14)"
      ]
     },
     "execution_count": 17,
     "metadata": {},
     "output_type": "execute_result"
    }
   ],
   "source": [
    "Not_categorical_test.shape"
   ]
  },
  {
   "cell_type": "code",
   "execution_count": 18,
   "metadata": {},
   "outputs": [],
   "source": [
    "Not_categorical_test.to_csv('../datasets/noncat_test.csv', index = False)"
   ]
  },
  {
   "cell_type": "markdown",
   "metadata": {},
   "source": [
    "_Here I dropped a few columns that I thought would have no role in predicting SalePrice, as well as dropping the columns that I saved earlier into the \"Non-Categorical\" features._"
   ]
  },
  {
   "cell_type": "code",
   "execution_count": 19,
   "metadata": {},
   "outputs": [],
   "source": [
    "train.drop(['Street','Alley','Lot Shape','Land Contour','Land Slope', 'Roof Style', 'Roof Matl', 'Exter Qual', 'Exter Cond', 'Foundation', 'Bsmt Qual','Bsmt Cond', 'Bsmt Exposure', 'BsmtFin Type 1','BsmtFin Type 2', 'Heating QC','Kitchen Qual','Functional', 'Fireplace Qu', 'Garage Finish','Garage Qual','Garage Cond','Pool QC'],axis=1,inplace=True)\n",
    "test.drop(['Street','Alley','Lot Shape','Land Contour','Land Slope', 'Roof Style', 'Roof Matl', 'Exter Qual', 'Exter Cond', 'Foundation', 'Bsmt Qual','Bsmt Cond', 'Bsmt Exposure', 'BsmtFin Type 1','BsmtFin Type 2', 'Heating QC','Kitchen Qual','Functional', 'Fireplace Qu', 'Garage Finish','Garage Qual','Garage Cond','Pool QC'],axis=1,inplace=True)"
   ]
  },
  {
   "cell_type": "markdown",
   "metadata": {},
   "source": [
    "_I added the \"MS SubClass\" column, since even though the values in the column are numerical, they actually represent categorical data. Did this for both train and test data._"
   ]
  },
  {
   "cell_type": "code",
   "execution_count": 20,
   "metadata": {},
   "outputs": [],
   "source": [
    "train['MS SubClass'] = train1['MS SubClass']\n",
    "test['MS SubClass'] = test1['MS SubClass']"
   ]
  },
  {
   "cell_type": "code",
   "execution_count": 21,
   "metadata": {},
   "outputs": [],
   "source": [
    "train['MS SubClass'] = train['MS SubClass'].astype(str)\n",
    "test['MS SubClass'] = test['MS SubClass'].astype(str)"
   ]
  },
  {
   "cell_type": "markdown",
   "metadata": {},
   "source": [
    "*Used .get_dummies() on the entire DataFrame to complete the categorical work.*"
   ]
  },
  {
   "cell_type": "code",
   "execution_count": 22,
   "metadata": {},
   "outputs": [],
   "source": [
    "train = pd.get_dummies(train)\n",
    "test = pd.get_dummies(test)"
   ]
  },
  {
   "cell_type": "code",
   "execution_count": 23,
   "metadata": {},
   "outputs": [
    {
     "data": {
      "text/html": [
       "<div>\n",
       "<style scoped>\n",
       "    .dataframe tbody tr th:only-of-type {\n",
       "        vertical-align: middle;\n",
       "    }\n",
       "\n",
       "    .dataframe tbody tr th {\n",
       "        vertical-align: top;\n",
       "    }\n",
       "\n",
       "    .dataframe thead th {\n",
       "        text-align: right;\n",
       "    }\n",
       "</style>\n",
       "<table border=\"1\" class=\"dataframe\">\n",
       "  <thead>\n",
       "    <tr style=\"text-align: right;\">\n",
       "      <th></th>\n",
       "      <th>MS Zoning_A (agr)</th>\n",
       "      <th>MS Zoning_C (all)</th>\n",
       "      <th>MS Zoning_FV</th>\n",
       "      <th>MS Zoning_I (all)</th>\n",
       "      <th>MS Zoning_RH</th>\n",
       "      <th>MS Zoning_RL</th>\n",
       "      <th>MS Zoning_RM</th>\n",
       "      <th>Utilities_AllPub</th>\n",
       "      <th>Utilities_NoSeWa</th>\n",
       "      <th>Utilities_NoSewr</th>\n",
       "      <th>...</th>\n",
       "      <th>MS SubClass_30</th>\n",
       "      <th>MS SubClass_40</th>\n",
       "      <th>MS SubClass_45</th>\n",
       "      <th>MS SubClass_50</th>\n",
       "      <th>MS SubClass_60</th>\n",
       "      <th>MS SubClass_70</th>\n",
       "      <th>MS SubClass_75</th>\n",
       "      <th>MS SubClass_80</th>\n",
       "      <th>MS SubClass_85</th>\n",
       "      <th>MS SubClass_90</th>\n",
       "    </tr>\n",
       "  </thead>\n",
       "  <tbody>\n",
       "    <tr>\n",
       "      <th>count</th>\n",
       "      <td>2051.000000</td>\n",
       "      <td>2051.000000</td>\n",
       "      <td>2051.000000</td>\n",
       "      <td>2051.000000</td>\n",
       "      <td>2051.000000</td>\n",
       "      <td>2051.000000</td>\n",
       "      <td>2051.000000</td>\n",
       "      <td>2051.000000</td>\n",
       "      <td>2051.000000</td>\n",
       "      <td>2051.000000</td>\n",
       "      <td>...</td>\n",
       "      <td>2051.000000</td>\n",
       "      <td>2051.00000</td>\n",
       "      <td>2051.000000</td>\n",
       "      <td>2051.000000</td>\n",
       "      <td>2051.000000</td>\n",
       "      <td>2051.000000</td>\n",
       "      <td>2051.000000</td>\n",
       "      <td>2051.000000</td>\n",
       "      <td>2051.000000</td>\n",
       "      <td>2051.000000</td>\n",
       "    </tr>\n",
       "    <tr>\n",
       "      <th>mean</th>\n",
       "      <td>0.000975</td>\n",
       "      <td>0.009264</td>\n",
       "      <td>0.049244</td>\n",
       "      <td>0.000488</td>\n",
       "      <td>0.006826</td>\n",
       "      <td>0.779132</td>\n",
       "      <td>0.154071</td>\n",
       "      <td>0.999025</td>\n",
       "      <td>0.000488</td>\n",
       "      <td>0.000488</td>\n",
       "      <td>...</td>\n",
       "      <td>0.049244</td>\n",
       "      <td>0.00195</td>\n",
       "      <td>0.005363</td>\n",
       "      <td>0.096538</td>\n",
       "      <td>0.192101</td>\n",
       "      <td>0.043881</td>\n",
       "      <td>0.007801</td>\n",
       "      <td>0.041931</td>\n",
       "      <td>0.013652</td>\n",
       "      <td>0.036568</td>\n",
       "    </tr>\n",
       "    <tr>\n",
       "      <th>std</th>\n",
       "      <td>0.031220</td>\n",
       "      <td>0.095825</td>\n",
       "      <td>0.216430</td>\n",
       "      <td>0.022081</td>\n",
       "      <td>0.082357</td>\n",
       "      <td>0.414933</td>\n",
       "      <td>0.361105</td>\n",
       "      <td>0.031220</td>\n",
       "      <td>0.022081</td>\n",
       "      <td>0.022081</td>\n",
       "      <td>...</td>\n",
       "      <td>0.216430</td>\n",
       "      <td>0.04413</td>\n",
       "      <td>0.073055</td>\n",
       "      <td>0.295400</td>\n",
       "      <td>0.394048</td>\n",
       "      <td>0.204880</td>\n",
       "      <td>0.088000</td>\n",
       "      <td>0.200480</td>\n",
       "      <td>0.116069</td>\n",
       "      <td>0.187743</td>\n",
       "    </tr>\n",
       "    <tr>\n",
       "      <th>min</th>\n",
       "      <td>0.000000</td>\n",
       "      <td>0.000000</td>\n",
       "      <td>0.000000</td>\n",
       "      <td>0.000000</td>\n",
       "      <td>0.000000</td>\n",
       "      <td>0.000000</td>\n",
       "      <td>0.000000</td>\n",
       "      <td>0.000000</td>\n",
       "      <td>0.000000</td>\n",
       "      <td>0.000000</td>\n",
       "      <td>...</td>\n",
       "      <td>0.000000</td>\n",
       "      <td>0.00000</td>\n",
       "      <td>0.000000</td>\n",
       "      <td>0.000000</td>\n",
       "      <td>0.000000</td>\n",
       "      <td>0.000000</td>\n",
       "      <td>0.000000</td>\n",
       "      <td>0.000000</td>\n",
       "      <td>0.000000</td>\n",
       "      <td>0.000000</td>\n",
       "    </tr>\n",
       "    <tr>\n",
       "      <th>25%</th>\n",
       "      <td>0.000000</td>\n",
       "      <td>0.000000</td>\n",
       "      <td>0.000000</td>\n",
       "      <td>0.000000</td>\n",
       "      <td>0.000000</td>\n",
       "      <td>1.000000</td>\n",
       "      <td>0.000000</td>\n",
       "      <td>1.000000</td>\n",
       "      <td>0.000000</td>\n",
       "      <td>0.000000</td>\n",
       "      <td>...</td>\n",
       "      <td>0.000000</td>\n",
       "      <td>0.00000</td>\n",
       "      <td>0.000000</td>\n",
       "      <td>0.000000</td>\n",
       "      <td>0.000000</td>\n",
       "      <td>0.000000</td>\n",
       "      <td>0.000000</td>\n",
       "      <td>0.000000</td>\n",
       "      <td>0.000000</td>\n",
       "      <td>0.000000</td>\n",
       "    </tr>\n",
       "    <tr>\n",
       "      <th>50%</th>\n",
       "      <td>0.000000</td>\n",
       "      <td>0.000000</td>\n",
       "      <td>0.000000</td>\n",
       "      <td>0.000000</td>\n",
       "      <td>0.000000</td>\n",
       "      <td>1.000000</td>\n",
       "      <td>0.000000</td>\n",
       "      <td>1.000000</td>\n",
       "      <td>0.000000</td>\n",
       "      <td>0.000000</td>\n",
       "      <td>...</td>\n",
       "      <td>0.000000</td>\n",
       "      <td>0.00000</td>\n",
       "      <td>0.000000</td>\n",
       "      <td>0.000000</td>\n",
       "      <td>0.000000</td>\n",
       "      <td>0.000000</td>\n",
       "      <td>0.000000</td>\n",
       "      <td>0.000000</td>\n",
       "      <td>0.000000</td>\n",
       "      <td>0.000000</td>\n",
       "    </tr>\n",
       "    <tr>\n",
       "      <th>75%</th>\n",
       "      <td>0.000000</td>\n",
       "      <td>0.000000</td>\n",
       "      <td>0.000000</td>\n",
       "      <td>0.000000</td>\n",
       "      <td>0.000000</td>\n",
       "      <td>1.000000</td>\n",
       "      <td>0.000000</td>\n",
       "      <td>1.000000</td>\n",
       "      <td>0.000000</td>\n",
       "      <td>0.000000</td>\n",
       "      <td>...</td>\n",
       "      <td>0.000000</td>\n",
       "      <td>0.00000</td>\n",
       "      <td>0.000000</td>\n",
       "      <td>0.000000</td>\n",
       "      <td>0.000000</td>\n",
       "      <td>0.000000</td>\n",
       "      <td>0.000000</td>\n",
       "      <td>0.000000</td>\n",
       "      <td>0.000000</td>\n",
       "      <td>0.000000</td>\n",
       "    </tr>\n",
       "    <tr>\n",
       "      <th>max</th>\n",
       "      <td>1.000000</td>\n",
       "      <td>1.000000</td>\n",
       "      <td>1.000000</td>\n",
       "      <td>1.000000</td>\n",
       "      <td>1.000000</td>\n",
       "      <td>1.000000</td>\n",
       "      <td>1.000000</td>\n",
       "      <td>1.000000</td>\n",
       "      <td>1.000000</td>\n",
       "      <td>1.000000</td>\n",
       "      <td>...</td>\n",
       "      <td>1.000000</td>\n",
       "      <td>1.00000</td>\n",
       "      <td>1.000000</td>\n",
       "      <td>1.000000</td>\n",
       "      <td>1.000000</td>\n",
       "      <td>1.000000</td>\n",
       "      <td>1.000000</td>\n",
       "      <td>1.000000</td>\n",
       "      <td>1.000000</td>\n",
       "      <td>1.000000</td>\n",
       "    </tr>\n",
       "  </tbody>\n",
       "</table>\n",
       "<p>8 rows × 165 columns</p>\n",
       "</div>"
      ],
      "text/plain": [
       "       MS Zoning_A (agr)  MS Zoning_C (all)  MS Zoning_FV  MS Zoning_I (all)  \\\n",
       "count        2051.000000        2051.000000   2051.000000        2051.000000   \n",
       "mean            0.000975           0.009264      0.049244           0.000488   \n",
       "std             0.031220           0.095825      0.216430           0.022081   \n",
       "min             0.000000           0.000000      0.000000           0.000000   \n",
       "25%             0.000000           0.000000      0.000000           0.000000   \n",
       "50%             0.000000           0.000000      0.000000           0.000000   \n",
       "75%             0.000000           0.000000      0.000000           0.000000   \n",
       "max             1.000000           1.000000      1.000000           1.000000   \n",
       "\n",
       "       MS Zoning_RH  MS Zoning_RL  MS Zoning_RM  Utilities_AllPub  \\\n",
       "count   2051.000000   2051.000000   2051.000000       2051.000000   \n",
       "mean       0.006826      0.779132      0.154071          0.999025   \n",
       "std        0.082357      0.414933      0.361105          0.031220   \n",
       "min        0.000000      0.000000      0.000000          0.000000   \n",
       "25%        0.000000      1.000000      0.000000          1.000000   \n",
       "50%        0.000000      1.000000      0.000000          1.000000   \n",
       "75%        0.000000      1.000000      0.000000          1.000000   \n",
       "max        1.000000      1.000000      1.000000          1.000000   \n",
       "\n",
       "       Utilities_NoSeWa  Utilities_NoSewr       ...        MS SubClass_30  \\\n",
       "count       2051.000000       2051.000000       ...           2051.000000   \n",
       "mean           0.000488          0.000488       ...              0.049244   \n",
       "std            0.022081          0.022081       ...              0.216430   \n",
       "min            0.000000          0.000000       ...              0.000000   \n",
       "25%            0.000000          0.000000       ...              0.000000   \n",
       "50%            0.000000          0.000000       ...              0.000000   \n",
       "75%            0.000000          0.000000       ...              0.000000   \n",
       "max            1.000000          1.000000       ...              1.000000   \n",
       "\n",
       "       MS SubClass_40  MS SubClass_45  MS SubClass_50  MS SubClass_60  \\\n",
       "count      2051.00000     2051.000000     2051.000000     2051.000000   \n",
       "mean          0.00195        0.005363        0.096538        0.192101   \n",
       "std           0.04413        0.073055        0.295400        0.394048   \n",
       "min           0.00000        0.000000        0.000000        0.000000   \n",
       "25%           0.00000        0.000000        0.000000        0.000000   \n",
       "50%           0.00000        0.000000        0.000000        0.000000   \n",
       "75%           0.00000        0.000000        0.000000        0.000000   \n",
       "max           1.00000        1.000000        1.000000        1.000000   \n",
       "\n",
       "       MS SubClass_70  MS SubClass_75  MS SubClass_80  MS SubClass_85  \\\n",
       "count     2051.000000     2051.000000     2051.000000     2051.000000   \n",
       "mean         0.043881        0.007801        0.041931        0.013652   \n",
       "std          0.204880        0.088000        0.200480        0.116069   \n",
       "min          0.000000        0.000000        0.000000        0.000000   \n",
       "25%          0.000000        0.000000        0.000000        0.000000   \n",
       "50%          0.000000        0.000000        0.000000        0.000000   \n",
       "75%          0.000000        0.000000        0.000000        0.000000   \n",
       "max          1.000000        1.000000        1.000000        1.000000   \n",
       "\n",
       "       MS SubClass_90  \n",
       "count     2051.000000  \n",
       "mean         0.036568  \n",
       "std          0.187743  \n",
       "min          0.000000  \n",
       "25%          0.000000  \n",
       "50%          0.000000  \n",
       "75%          0.000000  \n",
       "max          1.000000  \n",
       "\n",
       "[8 rows x 165 columns]"
      ]
     },
     "execution_count": 23,
     "metadata": {},
     "output_type": "execute_result"
    }
   ],
   "source": [
    "train.describe()"
   ]
  },
  {
   "cell_type": "markdown",
   "metadata": {},
   "source": [
    "_I realized that some of the columns in the train data is not in the test data and vice versa. I decided to only use the features that exist in both._"
   ]
  },
  {
   "cell_type": "code",
   "execution_count": 24,
   "metadata": {},
   "outputs": [
    {
     "data": {
      "text/plain": [
       "['MS Zoning_A (agr)',\n",
       " 'Utilities_NoSeWa',\n",
       " 'Neighborhood_GrnHill',\n",
       " 'Neighborhood_Landmrk',\n",
       " 'Condition 2_Artery',\n",
       " 'Condition 2_RRAe',\n",
       " 'Condition 2_RRAn',\n",
       " 'Condition 2_RRNn',\n",
       " 'Exterior 1st_CBlock',\n",
       " 'Exterior 1st_ImStucc',\n",
       " 'Exterior 1st_Stone',\n",
       " 'Exterior 2nd_Stone',\n",
       " 'Heating_OthW',\n",
       " 'Heating_Wall',\n",
       " 'Electrical_Mix',\n",
       " 'Misc Feature_Elev',\n",
       " 'Misc Feature_TenC',\n",
       " 'MS SubClass_150']"
      ]
     },
     "execution_count": 24,
     "metadata": {},
     "output_type": "execute_result"
    }
   ],
   "source": [
    "[x for x in train.columns if x not in test.columns]"
   ]
  },
  {
   "cell_type": "code",
   "execution_count": 25,
   "metadata": {},
   "outputs": [
    {
     "data": {
      "text/plain": [
       "['Exterior 1st_PreCast',\n",
       " 'Exterior 2nd_Other',\n",
       " 'Exterior 2nd_PreCast',\n",
       " 'Mas Vnr Type_CBlock',\n",
       " 'Heating_Floor',\n",
       " 'Sale Type_VWD']"
      ]
     },
     "execution_count": 25,
     "metadata": {},
     "output_type": "execute_result"
    }
   ],
   "source": [
    "[x for x in test.columns if x not in train.columns]"
   ]
  },
  {
   "cell_type": "code",
   "execution_count": 26,
   "metadata": {},
   "outputs": [],
   "source": [
    "train.drop([x for x in train.columns if x not in test.columns], axis=1, inplace = True)"
   ]
  },
  {
   "cell_type": "code",
   "execution_count": 27,
   "metadata": {},
   "outputs": [],
   "source": [
    "test.drop([x for x in test.columns if x not in train.columns], axis=1,inplace=True)"
   ]
  },
  {
   "cell_type": "markdown",
   "metadata": {},
   "source": [
    "_Saved the categorical columns into .csv files._"
   ]
  },
  {
   "cell_type": "code",
   "execution_count": null,
   "metadata": {},
   "outputs": [],
   "source": [
    "train.to_csv('./datasets/cat_train.csv', index=False)\n",
    "test.to_csv('./datasets/cat_test.csv', index=False)"
   ]
  },
  {
   "cell_type": "markdown",
   "metadata": {},
   "source": [
    "_At this point in the notebook, I tried to use lasso iteratively to reduce the number of categorical columns that I wanted in my final model._"
   ]
  },
  {
   "cell_type": "code",
   "execution_count": 29,
   "metadata": {},
   "outputs": [],
   "source": [
    "X = train\n",
    "y = train1['SalePrice']"
   ]
  },
  {
   "cell_type": "code",
   "execution_count": 30,
   "metadata": {},
   "outputs": [],
   "source": [
    "X_train, X_test, y_train, y_test = train_test_split(X,y,random_state=42)"
   ]
  },
  {
   "cell_type": "code",
   "execution_count": 31,
   "metadata": {},
   "outputs": [
    {
     "name": "stderr",
     "output_type": "stream",
     "text": [
      "/anaconda3/lib/python3.6/site-packages/sklearn/model_selection/_split.py:2053: FutureWarning: You should specify a value for 'cv' instead of relying on the default value. The default value will change from 3 to 5 in version 0.22.\n",
      "  warnings.warn(CV_WARNING, FutureWarning)\n"
     ]
    },
    {
     "data": {
      "text/plain": [
       "0.677841409647286"
      ]
     },
     "execution_count": 31,
     "metadata": {},
     "output_type": "execute_result"
    }
   ],
   "source": [
    "lasso = LassoCV(n_alphas = 200)\n",
    "lasso.fit(X_train, y_train)\n",
    "lasso.score(X_test,y_test)"
   ]
  },
  {
   "cell_type": "code",
   "execution_count": 64,
   "metadata": {},
   "outputs": [
    {
     "data": {
      "text/plain": [
       "35.952714782700525"
      ]
     },
     "execution_count": 64,
     "metadata": {},
     "output_type": "execute_result"
    }
   ],
   "source": [
    "lasso.alpha_"
   ]
  },
  {
   "cell_type": "code",
   "execution_count": 46,
   "metadata": {},
   "outputs": [
    {
     "data": {
      "text/plain": [
       "(1538, 147)"
      ]
     },
     "execution_count": 46,
     "metadata": {},
     "output_type": "execute_result"
    }
   ],
   "source": [
    "X_train.shape"
   ]
  },
  {
   "cell_type": "markdown",
   "metadata": {},
   "source": [
    "_I obtained all the coefficients that were not equal to 0._"
   ]
  },
  {
   "cell_type": "code",
   "execution_count": 50,
   "metadata": {},
   "outputs": [],
   "source": [
    "not_zero = [index for index, val in enumerate(lasso.coef_) if val != 0]"
   ]
  },
  {
   "cell_type": "markdown",
   "metadata": {},
   "source": [
    "*I made a new X_train that only took the features that did not have coefficients equal to 0.*"
   ]
  },
  {
   "cell_type": "code",
   "execution_count": 60,
   "metadata": {},
   "outputs": [],
   "source": [
    "X_train_it_1 = X_train.iloc[0:, not_zero]\n",
    "X_test_it_1 = X_test.iloc[0:, not_zero]"
   ]
  },
  {
   "cell_type": "code",
   "execution_count": 68,
   "metadata": {},
   "outputs": [
    {
     "data": {
      "text/plain": [
       "Index(['MS Zoning_C (all)', 'MS Zoning_RH', 'MS Zoning_RM',\n",
       "       'Lot Config_CulDSac', 'Lot Config_FR2', 'Lot Config_Inside',\n",
       "       'Neighborhood_Blmngtn', 'Neighborhood_Blueste', 'Neighborhood_BrDale',\n",
       "       'Neighborhood_BrkSide', 'Neighborhood_ClearCr', 'Neighborhood_CollgCr',\n",
       "       'Neighborhood_Crawfor', 'Neighborhood_Edwards', 'Neighborhood_Gilbert',\n",
       "       'Neighborhood_Greens', 'Neighborhood_IDOTRR', 'Neighborhood_MeadowV',\n",
       "       'Neighborhood_Mitchel', 'Neighborhood_NAmes', 'Neighborhood_NWAmes',\n",
       "       'Neighborhood_NoRidge', 'Neighborhood_NridgHt', 'Neighborhood_OldTown',\n",
       "       'Neighborhood_SWISU', 'Neighborhood_Sawyer', 'Neighborhood_SawyerW',\n",
       "       'Neighborhood_Somerst', 'Neighborhood_StoneBr', 'Neighborhood_Timber',\n",
       "       'Neighborhood_Veenker', 'Condition 1_Feedr', 'Condition 1_Norm',\n",
       "       'Condition 1_PosA', 'Condition 1_PosN', 'Condition 1_RRAe',\n",
       "       'Condition 1_RRAn', 'Condition 2_Norm', 'Condition 2_PosA',\n",
       "       'Condition 2_PosN', 'Bldg Type_1Fam', 'Bldg Type_Twnhs',\n",
       "       'Bldg Type_TwnhsE', 'House Style_1.5Fin', 'House Style_1Story',\n",
       "       'House Style_2.5Fin', 'House Style_2Story', 'House Style_SFoyer',\n",
       "       'Exterior 1st_AsbShng', 'Exterior 1st_BrkFace', 'Exterior 1st_CemntBd',\n",
       "       'Exterior 1st_HdBoard', 'Exterior 1st_Stucco', 'Exterior 1st_VinylSd',\n",
       "       'Exterior 1st_Wd Sdng', 'Exterior 2nd_CBlock', 'Exterior 2nd_CmentBd',\n",
       "       'Exterior 2nd_HdBoard', 'Exterior 2nd_MetalSd', 'Exterior 2nd_Stucco',\n",
       "       'Exterior 2nd_VinylSd', 'Exterior 2nd_Wd Sdng', 'Exterior 2nd_Wd Shng',\n",
       "       'Mas Vnr Type_BrkCmn', 'Mas Vnr Type_BrkFace', 'Mas Vnr Type_None',\n",
       "       'Mas Vnr Type_Stone', 'Heating_GasA', 'Heating_GasW', 'Central Air_N',\n",
       "       'Central Air_Y', 'Electrical_FuseP', 'Electrical_SBrkr',\n",
       "       'Garage Type_2Types', 'Garage Type_Attchd', 'Garage Type_BuiltIn',\n",
       "       'Garage Type_CarPort', 'Garage Type_None', 'Paved Drive_P',\n",
       "       'Paved Drive_Y', 'Fence_GdPrv', 'Fence_GdWo', 'Fence_None',\n",
       "       'Misc Feature_Gar2', 'Misc Feature_Othr', 'Misc Feature_Shed',\n",
       "       'Sale Type_COD', 'Sale Type_CWD', 'Sale Type_Con', 'Sale Type_New',\n",
       "       'Sale Type_Oth', 'MS SubClass_120', 'MS SubClass_160',\n",
       "       'MS SubClass_180', 'MS SubClass_20', 'MS SubClass_30', 'MS SubClass_50',\n",
       "       'MS SubClass_60', 'MS SubClass_70', 'MS SubClass_75'],\n",
       "      dtype='object')"
      ]
     },
     "execution_count": 68,
     "metadata": {},
     "output_type": "execute_result"
    }
   ],
   "source": [
    "X_train_it_1.columns"
   ]
  },
  {
   "cell_type": "markdown",
   "metadata": {},
   "source": [
    "_I refit a new Lasso model to the X_train data._"
   ]
  },
  {
   "cell_type": "code",
   "execution_count": 61,
   "metadata": {},
   "outputs": [
    {
     "name": "stderr",
     "output_type": "stream",
     "text": [
      "/anaconda3/lib/python3.6/site-packages/sklearn/model_selection/_split.py:2053: FutureWarning: You should specify a value for 'cv' instead of relying on the default value. The default value will change from 3 to 5 in version 0.22.\n",
      "  warnings.warn(CV_WARNING, FutureWarning)\n"
     ]
    },
    {
     "data": {
      "text/plain": [
       "0.6774970913208453"
      ]
     },
     "execution_count": 61,
     "metadata": {},
     "output_type": "execute_result"
    }
   ],
   "source": [
    "lasso_it_1 = LassoCV(n_alphas = 200)\n",
    "lasso_it_1.fit(X_train_it_1, y_train)\n",
    "lasso_it_1.score(X_test_it_1, y_test)"
   ]
  },
  {
   "cell_type": "markdown",
   "metadata": {},
   "source": [
    "_This time, it seemed that Lasso did not zero any more coefficients. Instead, I got all the coefficients that were high in value (greater than 40000 and less than -40000)._"
   ]
  },
  {
   "cell_type": "code",
   "execution_count": 74,
   "metadata": {},
   "outputs": [],
   "source": [
    "high_coef = [index for index,val in enumerate(lasso.coef_) if (val > 40000) or (val < -40000)]"
   ]
  },
  {
   "cell_type": "code",
   "execution_count": 88,
   "metadata": {
    "scrolled": true
   },
   "outputs": [
    {
     "data": {
      "text/plain": [
       "Index(['Neighborhood_BrkSide', 'Neighborhood_Edwards', 'Neighborhood_IDOTRR',\n",
       "       'Neighborhood_MeadowV', 'Neighborhood_NAmes', 'Neighborhood_NoRidge',\n",
       "       'Neighborhood_NridgHt', 'Neighborhood_OldTown', 'Neighborhood_Sawyer',\n",
       "       'Neighborhood_StoneBr', 'Neighborhood_Veenker', 'Condition 2_PosA',\n",
       "       'Condition 2_PosN', 'House Style_2.5Fin', 'Exterior 1st_CemntBd',\n",
       "       'MS SubClass_75'],\n",
       "      dtype='object')"
      ]
     },
     "execution_count": 88,
     "metadata": {},
     "output_type": "execute_result"
    }
   ],
   "source": [
    "X_train.iloc[0:, high_coef].columns"
   ]
  },
  {
   "cell_type": "markdown",
   "metadata": {},
   "source": [
    "_It seems that continuing to iterate the Lasso didn't improve the score, nor does it reduce the number of zero-ed out features. I stopped here and took down all the features of which to use later. It seemed like the features that Lasso didn't remove were mainly neighborhood features, which seems interesting._"
   ]
  }
 ],
 "metadata": {
  "kernelspec": {
   "display_name": "Python 3",
   "language": "python",
   "name": "python3"
  },
  "language_info": {
   "codemirror_mode": {
    "name": "ipython",
    "version": 3
   },
   "file_extension": ".py",
   "mimetype": "text/x-python",
   "name": "python",
   "nbconvert_exporter": "python",
   "pygments_lexer": "ipython3",
   "version": "3.6.6"
  }
 },
 "nbformat": 4,
 "nbformat_minor": 2
}

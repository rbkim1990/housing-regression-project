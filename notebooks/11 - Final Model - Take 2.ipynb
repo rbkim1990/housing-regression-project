{
 "cells": [
  {
   "cell_type": "markdown",
   "metadata": {},
   "source": [
    "# Final Model 2"
   ]
  },
  {
   "cell_type": "markdown",
   "metadata": {},
   "source": [
    "_This model will use the information gleaned from the numerical and categorical columns and tests, and hope to create the best model for use._"
   ]
  },
  {
   "cell_type": "code",
   "execution_count": 33,
   "metadata": {},
   "outputs": [],
   "source": [
    "import pandas as pd\n",
    "import numpy as np\n",
    "import matplotlib.pyplot as plt\n",
    "from sklearn.metrics import mean_squared_error, r2_score\n",
    "from sklearn.model_selection import train_test_split, cross_val_score, GridSearchCV\n",
    "from sklearn.linear_model import LassoCV, LinearRegression, ElasticNetCV\n",
    "from sklearn.preprocessing import StandardScaler, PolynomialFeatures\n",
    "from sklearn.feature_selection import RFE\n",
    "from sklearn.svm import SVR"
   ]
  },
  {
   "cell_type": "code",
   "execution_count": 2,
   "metadata": {},
   "outputs": [],
   "source": [
    "num_train = pd.read_csv('../datasets/num_train.csv')\n",
    "cat_train = pd.read_csv('../datasets/cat_train.csv')\n",
    "num_test = pd.read_csv('../datasets/num_test.csv')\n",
    "cat_test = pd.read_csv('../datasets/cat_test.csv')\n",
    "train = pd.read_csv('../datasets/train.csv')\n",
    "test = pd.read_csv('../datasets/test.csv')"
   ]
  },
  {
   "cell_type": "code",
   "execution_count": 46,
   "metadata": {},
   "outputs": [],
   "source": [
    "X_num_train = num_train[['Lot Area', 'Overall Qual', 'Overall Cond', 'Year Built', \n",
    "                         'Year Remod/Add', 'Mas Vnr Area', 'BsmtFin SF 1', 'Total Bsmt SF',\n",
    "                         '1st Flr SF', 'Gr Liv Area', 'Bsmt Full Bath', 'Kitchen AbvGr',\n",
    "                         'TotRms AbvGrd', 'Garage Cars', 'Garage Area', 'Wood Deck SF',\n",
    "                         'Screen Porch', 'Misc Val', 'Exter Qual', 'Bsmt Qual', \n",
    "                         'BsmtFin Type 1', 'Heating QC', 'Kitchen Qual', 'Functional', \n",
    "                         'Fireplace Qu', 'Garage Finish', 'Pool QC']]\n",
    "\n",
    "y = train['SalePrice']\n",
    "\n",
    "X_num_test = num_test [['Lot Area', 'Overall Qual', 'Overall Cond', 'Year Built', \n",
    "                        'Year Remod/Add', 'Mas Vnr Area', 'BsmtFin SF 1', 'Total Bsmt SF',\n",
    "                        '1st Flr SF', 'Gr Liv Area', 'Bsmt Full Bath', 'Kitchen AbvGr',\n",
    "                        'TotRms AbvGrd', 'Garage Cars', 'Garage Area', 'Wood Deck SF',\n",
    "                        'Screen Porch', 'Misc Val', 'Exter Qual', 'Bsmt Qual', \n",
    "                        'BsmtFin Type 1', 'Heating QC', 'Kitchen Qual', 'Functional', \n",
    "                        'Fireplace Qu', 'Garage Finish', 'Pool QC']]"
   ]
  },
  {
   "cell_type": "code",
   "execution_count": 4,
   "metadata": {},
   "outputs": [],
   "source": [
    "pf = PolynomialFeatures(degree=2, include_bias=False)\n",
    "X_num_train_poly = pf.fit_transform(X_num_train)\n",
    "X_num_test_poly = pf.transform(X_num_test)"
   ]
  },
  {
   "cell_type": "code",
   "execution_count": 5,
   "metadata": {},
   "outputs": [],
   "source": [
    "ss = StandardScaler()\n",
    "X_num_train_poly_scale = pd.DataFrame(ss.fit_transform(X_num_train_poly))\n",
    "X_num_test_poly_scale = pd.DataFrame(ss.transform(X_num_test_poly))"
   ]
  },
  {
   "cell_type": "code",
   "execution_count": 6,
   "metadata": {},
   "outputs": [
    {
     "name": "stdout",
     "output_type": "stream",
     "text": [
      "CPU times: user 14.3 s, sys: 337 ms, total: 14.7 s\n",
      "Wall time: 7.52 s\n"
     ]
    }
   ],
   "source": [
    "%%time\n",
    "rfe = RFE(estimator=LinearRegression(),n_features_to_select=80)\n",
    "rfe.fit(X_num_train_poly_scale, y)"
   ]
  },
  {
   "cell_type": "code",
   "execution_count": 7,
   "metadata": {},
   "outputs": [],
   "source": [
    "X_nums = X_num_train_poly_scale[X_num_train_poly_scale.columns[rfe.get_support(True)]]\n",
    "X_nums_final = X_num_test_poly_scale[X_num_test_poly_scale.columns[rfe.get_support(True)]]"
   ]
  },
  {
   "cell_type": "code",
   "execution_count": 8,
   "metadata": {},
   "outputs": [],
   "source": [
    "X_cat_train = cat_train[['MS Zoning_C (all)', 'MS Zoning_RH', 'MS Zoning_RM', 'Lot Config_CulDSac', 'Lot Config_FR2', 'Lot Config_Inside', 'Neighborhood_Blmngtn', 'Neighborhood_BrDale', 'Neighborhood_BrkSide', 'Neighborhood_ClearCr', 'Neighborhood_Crawfor', 'Neighborhood_Edwards', 'Neighborhood_Gilbert', 'Neighborhood_IDOTRR', 'Neighborhood_MeadowV', 'Neighborhood_Mitchel', 'Neighborhood_NAmes', 'Neighborhood_NWAmes', 'Neighborhood_NoRidge', 'Neighborhood_NridgHt', 'Neighborhood_OldTown', 'Neighborhood_SWISU', 'Neighborhood_Sawyer', 'Neighborhood_Somerst', 'Neighborhood_StoneBr', 'Neighborhood_Timber', 'Neighborhood_Veenker', 'Condition 1_Feedr', 'Condition 1_Norm', 'Condition 1_PosA', 'Condition 1_PosN', 'Condition 1_RRAe', 'Condition 1_RRAn', 'Condition 2_PosA', 'Condition 2_PosN', 'Bldg Type_1Fam', 'Bldg Type_Twnhs', 'Bldg Type_TwnhsE', 'House Style_1Story', 'House Style_2.5Fin', 'House Style_2Story', 'Exterior 1st_AsbShng', 'Exterior 1st_BrkFace', 'Exterior 1st_CemntBd', 'Exterior 1st_HdBoard', 'Exterior 1st_Stucco', 'Exterior 1st_Wd Sdng', 'Exterior 2nd_Stucco', 'Exterior 2nd_Wd Sdng', 'Exterior 2nd_Wd Shng', 'Mas Vnr Type_BrkCmn', 'Mas Vnr Type_BrkFace', 'Mas Vnr Type_None', 'Mas Vnr Type_Stone', 'Heating_GasW', 'Central Air_N', 'Electrical_SBrkr', 'Garage Type_Attchd', 'Garage Type_BuiltIn', 'Garage Type_None', 'Paved Drive_P', 'Paved Drive_Y', 'Fence_GdPrv', 'Fence_None', 'Sale Type_COD', 'Sale Type_New', 'MS SubClass_120', 'MS SubClass_160', 'MS SubClass_20', 'MS SubClass_30', 'MS SubClass_60', 'MS SubClass_70', 'MS SubClass_75']]\n",
    "\n",
    "X_cat_final = cat_test[['MS Zoning_C (all)', 'MS Zoning_RH', 'MS Zoning_RM', 'Lot Config_CulDSac', 'Lot Config_FR2', 'Lot Config_Inside', 'Neighborhood_Blmngtn', 'Neighborhood_BrDale', 'Neighborhood_BrkSide', 'Neighborhood_ClearCr', 'Neighborhood_Crawfor', 'Neighborhood_Edwards', 'Neighborhood_Gilbert', 'Neighborhood_IDOTRR', 'Neighborhood_MeadowV', 'Neighborhood_Mitchel', 'Neighborhood_NAmes', 'Neighborhood_NWAmes', 'Neighborhood_NoRidge', 'Neighborhood_NridgHt', 'Neighborhood_OldTown', 'Neighborhood_SWISU', 'Neighborhood_Sawyer', 'Neighborhood_Somerst', 'Neighborhood_StoneBr', 'Neighborhood_Timber', 'Neighborhood_Veenker', 'Condition 1_Feedr', 'Condition 1_Norm', 'Condition 1_PosA', 'Condition 1_PosN', 'Condition 1_RRAe', 'Condition 1_RRAn', 'Condition 2_PosA', 'Condition 2_PosN', 'Bldg Type_1Fam', 'Bldg Type_Twnhs', 'Bldg Type_TwnhsE', 'House Style_1Story', 'House Style_2.5Fin', 'House Style_2Story', 'Exterior 1st_AsbShng', 'Exterior 1st_BrkFace', 'Exterior 1st_CemntBd', 'Exterior 1st_HdBoard', 'Exterior 1st_Stucco', 'Exterior 1st_Wd Sdng', 'Exterior 2nd_Stucco', 'Exterior 2nd_Wd Sdng', 'Exterior 2nd_Wd Shng', 'Mas Vnr Type_BrkCmn', 'Mas Vnr Type_BrkFace', 'Mas Vnr Type_None', 'Mas Vnr Type_Stone', 'Heating_GasW', 'Central Air_N', 'Electrical_SBrkr', 'Garage Type_Attchd', 'Garage Type_BuiltIn', 'Garage Type_None', 'Paved Drive_P', 'Paved Drive_Y', 'Fence_GdPrv', 'Fence_None', 'Sale Type_COD', 'Sale Type_New', 'MS SubClass_120', 'MS SubClass_160', 'MS SubClass_20', 'MS SubClass_30', 'MS SubClass_60', 'MS SubClass_70', 'MS SubClass_75']]"
   ]
  },
  {
   "cell_type": "code",
   "execution_count": 9,
   "metadata": {},
   "outputs": [
    {
     "data": {
      "text/plain": [
       "RFE(estimator=LinearRegression(copy_X=True, fit_intercept=True, n_jobs=None,\n",
       "         normalize=False),\n",
       "  n_features_to_select=65, step=1, verbose=0)"
      ]
     },
     "execution_count": 9,
     "metadata": {},
     "output_type": "execute_result"
    }
   ],
   "source": [
    "rfe1 = RFE(estimator=LinearRegression(),n_features_to_select=65)\n",
    "rfe1.fit(X_cat_train, y)"
   ]
  },
  {
   "cell_type": "code",
   "execution_count": 10,
   "metadata": {},
   "outputs": [],
   "source": [
    "X_cats = X_cat_train[X_cat_train.columns[rfe1.get_support(True)]]\n",
    "X_cats_final = X_cat_final[X_cat_final.columns[rfe1.get_support(True)]]"
   ]
  },
  {
   "cell_type": "code",
   "execution_count": 11,
   "metadata": {},
   "outputs": [],
   "source": [
    "X = pd.concat([X_nums, X_cats], axis = 1, sort = False)\n",
    "X_final = pd.concat([X_nums_final, X_cats_final], axis = 1, sort = False)"
   ]
  },
  {
   "cell_type": "code",
   "execution_count": 12,
   "metadata": {},
   "outputs": [],
   "source": [
    "X_train, X_test, y_train, y_test = train_test_split(X, y, random_state = 42)"
   ]
  },
  {
   "cell_type": "code",
   "execution_count": 13,
   "metadata": {},
   "outputs": [
    {
     "name": "stderr",
     "output_type": "stream",
     "text": [
      "/anaconda3/lib/python3.6/site-packages/sklearn/linear_model/coordinate_descent.py:492: ConvergenceWarning: Objective did not converge. You might want to increase the number of iterations. Fitting data with very small alpha may cause precision problems.\n",
      "  ConvergenceWarning)\n"
     ]
    },
    {
     "data": {
      "text/plain": [
       "0.9258405174209439"
      ]
     },
     "execution_count": 13,
     "metadata": {},
     "output_type": "execute_result"
    }
   ],
   "source": [
    "lasso = LassoCV(n_alphas = 300, cv = 5)\n",
    "lasso.fit(X_train, y_train)\n",
    "lasso.score(X_test, y_test)"
   ]
  },
  {
   "cell_type": "code",
   "execution_count": 14,
   "metadata": {},
   "outputs": [],
   "source": [
    "y_lasso = lasso.predict(X_final)"
   ]
  },
  {
   "cell_type": "code",
   "execution_count": 18,
   "metadata": {},
   "outputs": [],
   "source": [
    "graph_lasso = lasso.predict(X_test)"
   ]
  },
  {
   "cell_type": "code",
   "execution_count": 15,
   "metadata": {
    "scrolled": true
   },
   "outputs": [
    {
     "name": "stderr",
     "output_type": "stream",
     "text": [
      "/anaconda3/lib/python3.6/site-packages/sklearn/model_selection/_split.py:2053: FutureWarning: You should specify a value for 'cv' instead of relying on the default value. The default value will change from 3 to 5 in version 0.22.\n",
      "  warnings.warn(CV_WARNING, FutureWarning)\n"
     ]
    },
    {
     "name": "stdout",
     "output_type": "stream",
     "text": [
      "CPU times: user 2.64 s, sys: 214 ms, total: 2.86 s\n",
      "Wall time: 1.46 s\n"
     ]
    },
    {
     "name": "stderr",
     "output_type": "stream",
     "text": [
      "/anaconda3/lib/python3.6/site-packages/sklearn/linear_model/coordinate_descent.py:492: ConvergenceWarning: Objective did not converge. You might want to increase the number of iterations. Fitting data with very small alpha may cause precision problems.\n",
      "  ConvergenceWarning)\n",
      "/anaconda3/lib/python3.6/site-packages/sklearn/linear_model/coordinate_descent.py:492: ConvergenceWarning: Objective did not converge. You might want to increase the number of iterations. Fitting data with very small alpha may cause precision problems.\n",
      "  ConvergenceWarning)\n",
      "/anaconda3/lib/python3.6/site-packages/sklearn/linear_model/coordinate_descent.py:492: ConvergenceWarning: Objective did not converge. You might want to increase the number of iterations. Fitting data with very small alpha may cause precision problems.\n",
      "  ConvergenceWarning)\n",
      "/anaconda3/lib/python3.6/site-packages/sklearn/linear_model/coordinate_descent.py:492: ConvergenceWarning: Objective did not converge. You might want to increase the number of iterations. Fitting data with very small alpha may cause precision problems.\n",
      "  ConvergenceWarning)\n",
      "/anaconda3/lib/python3.6/site-packages/sklearn/linear_model/coordinate_descent.py:492: ConvergenceWarning: Objective did not converge. You might want to increase the number of iterations. Fitting data with very small alpha may cause precision problems.\n",
      "  ConvergenceWarning)\n"
     ]
    }
   ],
   "source": [
    "%%time\n",
    "enet = ElasticNetCV(l1_ratio = [.1, .5, .7, .9, .95, .99, 1], n_alphas = 300)\n",
    "enet.fit(X_train, y_train)"
   ]
  },
  {
   "cell_type": "code",
   "execution_count": 16,
   "metadata": {},
   "outputs": [
    {
     "data": {
      "text/plain": [
       "0.9260975956088715"
      ]
     },
     "execution_count": 16,
     "metadata": {},
     "output_type": "execute_result"
    }
   ],
   "source": [
    "enet.score(X_test, y_test)"
   ]
  },
  {
   "cell_type": "code",
   "execution_count": 17,
   "metadata": {},
   "outputs": [],
   "source": [
    "y_enet = enet.predict(X_final)"
   ]
  },
  {
   "cell_type": "code",
   "execution_count": 19,
   "metadata": {},
   "outputs": [],
   "source": [
    "graph_enet = enet.predict(X_test)"
   ]
  },
  {
   "cell_type": "code",
   "execution_count": 45,
   "metadata": {
    "scrolled": false
   },
   "outputs": [
    {
     "data": {
      "image/png": "[encoded data removed]",
      "text/plain": [
       "<Figure size 720x576 with 1 Axes>"
      ]
     },
     "metadata": {},
     "output_type": "display_data"
    }
   ],
   "source": [
    "plt.figure(figsize=(10,8), facecolor='w')\n",
    "plt.title('Actual Price vs. Predicted Price', fontsize = 24)\n",
    "plt.ylabel('Actual Price', fontsize = 20)\n",
    "plt.xlabel('Predicted Price', fontsize = 20)\n",
    "plt.plot(np.unique(y_test), \n",
    "         np.poly1d(np.polyfit(y_test, (graph_lasso + graph_enet)/2, 1))(np.unique(y_test)),\n",
    "         color = 'red')\n",
    "plt.scatter(y_test, (graph_lasso + graph_enet)/2);\n",
    "plt.savefig('../foo.png', bbox_inches='tight')"
   ]
  },
  {
   "cell_type": "code",
   "execution_count": 32,
   "metadata": {},
   "outputs": [
    {
     "data": {
      "text/plain": [
       "21291.369643558395"
      ]
     },
     "execution_count": 32,
     "metadata": {},
     "output_type": "execute_result"
    }
   ],
   "source": [
    "mean_squared_error(y_test, (graph_lasso + graph_enet)/2) ** 0.5"
   ]
  },
  {
   "cell_type": "code",
   "execution_count": 34,
   "metadata": {
    "scrolled": true
   },
   "outputs": [
    {
     "data": {
      "text/plain": [
       "0.9261692841299543"
      ]
     },
     "execution_count": 34,
     "metadata": {},
     "output_type": "execute_result"
    }
   ],
   "source": [
    "r2_score(y_test, (graph_lasso + graph_enet)/2)"
   ]
  },
  {
   "cell_type": "code",
   "execution_count": 48,
   "metadata": {},
   "outputs": [],
   "source": [
    "cols=[index for index, val in enumerate(lasso.coef_)]"
   ]
  },
  {
   "cell_type": "code",
   "execution_count": 51,
   "metadata": {},
   "outputs": [
    {
     "data": {
      "text/plain": [
       "Index([                0,                 1,                 2,\n",
       "                       3,                 4,                 5,\n",
       "                       6,                 7,                 8,\n",
       "                       9,\n",
       "       ...\n",
       "           'Fence_GdPrv',   'Sale Type_COD',   'Sale Type_New',\n",
       "       'MS SubClass_120', 'MS SubClass_160',  'MS SubClass_20',\n",
       "        'MS SubClass_30',  'MS SubClass_60',  'MS SubClass_70',\n",
       "        'MS SubClass_75'],\n",
       "      dtype='object', length=145)"
      ]
     },
     "execution_count": 51,
     "metadata": {},
     "output_type": "execute_result"
    }
   ],
   "source": [
    "X_train.columns[cols]"
   ]
  },
  {
   "cell_type": "code",
   "execution_count": 20,
   "metadata": {
    "scrolled": true
   },
   "outputs": [
    {
     "name": "stderr",
     "output_type": "stream",
     "text": [
      "/anaconda3/lib/python3.6/site-packages/ipykernel_launcher.py:2: SettingWithCopyWarning: \n",
      "A value is trying to be set on a copy of a slice from a DataFrame.\n",
      "Try using .loc[row_indexer,col_indexer] = value instead\n",
      "\n",
      "See the caveats in the documentation: http://pandas.pydata.org/pandas-docs/stable/indexing.html#indexing-view-versus-copy\n",
      "  \n"
     ]
    }
   ],
   "source": [
    "submission = test[['Id']]\n",
    "submission['SalePrice'] = (y_lasso + y_enet)/2\n",
    "submission.to_csv('../submissions/submission28.csv', index=False)"
   ]
  }
 ],
 "metadata": {
  "kernelspec": {
   "display_name": "Python 3",
   "language": "python",
   "name": "python3"
  },
  "language_info": {
   "codemirror_mode": {
    "name": "ipython",
    "version": 3
   },
   "file_extension": ".py",
   "mimetype": "text/x-python",
   "name": "python",
   "nbconvert_exporter": "python",
   "pygments_lexer": "ipython3",
   "version": "3.6.8"
  },
  "varInspector": {
   "cols": {
    "lenName": 16,
    "lenType": 16,
    "lenVar": 40
   },
   "kernels_config": {
    "python": {
     "delete_cmd_postfix": "",
     "delete_cmd_prefix": "del ",
     "library": "var_list.py",
     "varRefreshCmd": "print(var_dic_list())"
    },
    "r": {
     "delete_cmd_postfix": ") ",
     "delete_cmd_prefix": "rm(",
     "library": "var_list.r",
     "varRefreshCmd": "cat(var_dic_list()) "
    }
   },
   "types_to_exclude": [
    "module",
    "function",
    "builtin_function_or_method",
    "instance",
    "_Feature"
   ],
   "window_display": false
  }
 },
 "nbformat": 4,
 "nbformat_minor": 2
}

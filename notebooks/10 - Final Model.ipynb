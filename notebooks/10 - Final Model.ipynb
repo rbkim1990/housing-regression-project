{
 "cells": [
  {
   "cell_type": "markdown",
   "metadata": {},
   "source": [
    "# Final Model, for better or for worse"
   ]
  },
  {
   "cell_type": "markdown",
   "metadata": {},
   "source": [
    "_This model will use the information gleaned from the numerical and categorical columns and tests, and hope to create the best model for use._"
   ]
  },
  {
   "cell_type": "code",
   "execution_count": 1,
   "metadata": {},
   "outputs": [],
   "source": [
    "import pandas as pd\n",
    "import numpy as np\n",
    "from sklearn.model_selection import train_test_split, cross_val_score, GridSearchCV\n",
    "from sklearn.linear_model import LassoCV, LinearRegression, ElasticNetCV\n",
    "from sklearn.preprocessing import StandardScaler, PolynomialFeatures\n",
    "from sklearn.feature_selection import RFE\n",
    "from sklearn.svm import SVR"
   ]
  },
  {
   "cell_type": "code",
   "execution_count": 2,
   "metadata": {},
   "outputs": [],
   "source": [
    "num_train = pd.read_csv('../datasets/num_train.csv')\n",
    "cat_train = pd.read_csv('../datasets/cat_train.csv')\n",
    "num_test = pd.read_csv('../datasets/num_test.csv')\n",
    "cat_test = pd.read_csv('../datasets/cat_test.csv')\n",
    "train = pd.read_csv('../datasets/train.csv')\n",
    "test = pd.read_csv('../datasets/test.csv')"
   ]
  },
  {
   "cell_type": "code",
   "execution_count": 3,
   "metadata": {},
   "outputs": [],
   "source": [
    "X_num_train = num_train[['Lot Area', 'Overall Qual', 'Overall Cond', 'Year Built', \n",
    "                         'Year Remod/Add', 'Mas Vnr Area', 'BsmtFin SF 1', 'Total Bsmt SF',\n",
    "                         '1st Flr SF', 'Gr Liv Area', 'Bsmt Full Bath', 'Kitchen AbvGr',\n",
    "                         'TotRms AbvGrd', 'Garage Cars', 'Garage Area', 'Wood Deck SF',\n",
    "                         'Screen Porch', 'Misc Val', 'Exter Qual', 'Bsmt Qual', 'BsmtFin Type 1',\n",
    "                         'Heating QC', 'Kitchen Qual', 'Functional', 'Fireplace Qu',\n",
    "                         'Garage Finish', 'Pool QC']]\n",
    "\n",
    "y = train['SalePrice']\n",
    "\n",
    "X_num_test = num_test [['Lot Area', 'Overall Qual', 'Overall Cond', 'Year Built', \n",
    "                         'Year Remod/Add', 'Mas Vnr Area', 'BsmtFin SF 1', 'Total Bsmt SF',\n",
    "                         '1st Flr SF', 'Gr Liv Area', 'Bsmt Full Bath', 'Kitchen AbvGr',\n",
    "                         'TotRms AbvGrd', 'Garage Cars', 'Garage Area', 'Wood Deck SF',\n",
    "                         'Screen Porch', 'Misc Val', 'Exter Qual', 'Bsmt Qual', 'BsmtFin Type 1',\n",
    "                         'Heating QC', 'Kitchen Qual', 'Functional', 'Fireplace Qu',\n",
    "                         'Garage Finish', 'Pool QC']]"
   ]
  },
  {
   "cell_type": "code",
   "execution_count": 4,
   "metadata": {},
   "outputs": [],
   "source": [
    "pf = PolynomialFeatures(degree=2, include_bias=False)\n",
    "X_num_train_poly = pf.fit_transform(X_num_train)\n",
    "X_num_test_poly = pf.transform(X_num_test)"
   ]
  },
  {
   "cell_type": "code",
   "execution_count": 5,
   "metadata": {},
   "outputs": [],
   "source": [
    "ss = StandardScaler()\n",
    "X_num_train_poly_scale = pd.DataFrame(ss.fit_transform(X_num_train_poly))\n",
    "X_num_test_poly_scale = pd.DataFrame(ss.transform(X_num_test_poly))"
   ]
  },
  {
   "cell_type": "code",
   "execution_count": 6,
   "metadata": {},
   "outputs": [],
   "source": [
    "X_cat_train = cat_train[['MS Zoning_C (all)', 'MS Zoning_RH', 'MS Zoning_RM', 'Lot Config_CulDSac', 'Lot Config_FR2', 'Lot Config_Inside', 'Neighborhood_Blmngtn', 'Neighborhood_BrDale', 'Neighborhood_BrkSide', 'Neighborhood_ClearCr', 'Neighborhood_Crawfor', 'Neighborhood_Edwards', 'Neighborhood_Gilbert', 'Neighborhood_IDOTRR', 'Neighborhood_MeadowV', 'Neighborhood_Mitchel', 'Neighborhood_NAmes', 'Neighborhood_NWAmes', 'Neighborhood_NoRidge', 'Neighborhood_NridgHt', 'Neighborhood_OldTown', 'Neighborhood_SWISU', 'Neighborhood_Sawyer', 'Neighborhood_Somerst', 'Neighborhood_StoneBr', 'Neighborhood_Timber', 'Neighborhood_Veenker', 'Condition 1_Feedr', 'Condition 1_Norm', 'Condition 1_PosA', 'Condition 1_PosN', 'Condition 1_RRAe', 'Condition 1_RRAn', 'Condition 2_PosA', 'Condition 2_PosN', 'Bldg Type_1Fam', 'Bldg Type_Twnhs', 'Bldg Type_TwnhsE', 'House Style_1Story', 'House Style_2.5Fin', 'House Style_2Story', 'Exterior 1st_AsbShng', 'Exterior 1st_BrkFace', 'Exterior 1st_CemntBd', 'Exterior 1st_HdBoard', 'Exterior 1st_Stucco', 'Exterior 1st_Wd Sdng', 'Exterior 2nd_Stucco', 'Exterior 2nd_Wd Sdng', 'Exterior 2nd_Wd Shng', 'Mas Vnr Type_BrkCmn', 'Mas Vnr Type_BrkFace', 'Mas Vnr Type_None', 'Mas Vnr Type_Stone', 'Heating_GasW', 'Central Air_N', 'Electrical_SBrkr', 'Garage Type_Attchd', 'Garage Type_BuiltIn', 'Garage Type_None', 'Paved Drive_P', 'Paved Drive_Y', 'Fence_GdPrv', 'Fence_None', 'Sale Type_COD', 'Sale Type_New', 'MS SubClass_120', 'MS SubClass_160', 'MS SubClass_20', 'MS SubClass_30', 'MS SubClass_60', 'MS SubClass_70', 'MS SubClass_75']]\n",
    "\n",
    "X_cat_final = cat_test[['MS Zoning_C (all)', 'MS Zoning_RH', 'MS Zoning_RM', 'Lot Config_CulDSac', 'Lot Config_FR2', 'Lot Config_Inside', 'Neighborhood_Blmngtn', 'Neighborhood_BrDale', 'Neighborhood_BrkSide', 'Neighborhood_ClearCr', 'Neighborhood_Crawfor', 'Neighborhood_Edwards', 'Neighborhood_Gilbert', 'Neighborhood_IDOTRR', 'Neighborhood_MeadowV', 'Neighborhood_Mitchel', 'Neighborhood_NAmes', 'Neighborhood_NWAmes', 'Neighborhood_NoRidge', 'Neighborhood_NridgHt', 'Neighborhood_OldTown', 'Neighborhood_SWISU', 'Neighborhood_Sawyer', 'Neighborhood_Somerst', 'Neighborhood_StoneBr', 'Neighborhood_Timber', 'Neighborhood_Veenker', 'Condition 1_Feedr', 'Condition 1_Norm', 'Condition 1_PosA', 'Condition 1_PosN', 'Condition 1_RRAe', 'Condition 1_RRAn', 'Condition 2_PosA', 'Condition 2_PosN', 'Bldg Type_1Fam', 'Bldg Type_Twnhs', 'Bldg Type_TwnhsE', 'House Style_1Story', 'House Style_2.5Fin', 'House Style_2Story', 'Exterior 1st_AsbShng', 'Exterior 1st_BrkFace', 'Exterior 1st_CemntBd', 'Exterior 1st_HdBoard', 'Exterior 1st_Stucco', 'Exterior 1st_Wd Sdng', 'Exterior 2nd_Stucco', 'Exterior 2nd_Wd Sdng', 'Exterior 2nd_Wd Shng', 'Mas Vnr Type_BrkCmn', 'Mas Vnr Type_BrkFace', 'Mas Vnr Type_None', 'Mas Vnr Type_Stone', 'Heating_GasW', 'Central Air_N', 'Electrical_SBrkr', 'Garage Type_Attchd', 'Garage Type_BuiltIn', 'Garage Type_None', 'Paved Drive_P', 'Paved Drive_Y', 'Fence_GdPrv', 'Fence_None', 'Sale Type_COD', 'Sale Type_New', 'MS SubClass_120', 'MS SubClass_160', 'MS SubClass_20', 'MS SubClass_30', 'MS SubClass_60', 'MS SubClass_70', 'MS SubClass_75']]"
   ]
  },
  {
   "cell_type": "code",
   "execution_count": 7,
   "metadata": {},
   "outputs": [],
   "source": [
    "X = pd.concat([X_num_train_poly_scale, X_cat_train], axis = 1, sort = False)\n",
    "X_final = pd.concat([X_num_test_poly_scale, X_cat_final], axis = 1, sort = False)"
   ]
  },
  {
   "cell_type": "code",
   "execution_count": 8,
   "metadata": {},
   "outputs": [],
   "source": [
    "X_train, X_test, y_train, y_test = train_test_split(X, y, random_state = 42)"
   ]
  },
  {
   "cell_type": "code",
   "execution_count": 9,
   "metadata": {},
   "outputs": [
    {
     "name": "stderr",
     "output_type": "stream",
     "text": [
      "/anaconda3/lib/python3.6/site-packages/sklearn/model_selection/_split.py:2053: FutureWarning: You should specify a value for 'cv' instead of relying on the default value. The default value will change from 3 to 5 in version 0.22.\n",
      "  warnings.warn(CV_WARNING, FutureWarning)\n",
      "/anaconda3/lib/python3.6/site-packages/sklearn/linear_model/coordinate_descent.py:492: ConvergenceWarning: Objective did not converge. You might want to increase the number of iterations. Fitting data with very small alpha may cause precision problems.\n",
      "  ConvergenceWarning)\n"
     ]
    },
    {
     "data": {
      "text/plain": [
       "0.9177230418081739"
      ]
     },
     "execution_count": 9,
     "metadata": {},
     "output_type": "execute_result"
    }
   ],
   "source": [
    "lasso = LassoCV(n_alphas = 300)\n",
    "lasso.fit(X_train, y_train)\n",
    "lasso.score(X_test, y_test)"
   ]
  },
  {
   "cell_type": "code",
   "execution_count": 10,
   "metadata": {},
   "outputs": [
    {
     "data": {
      "text/plain": [
       "933.4521270823793"
      ]
     },
     "execution_count": 10,
     "metadata": {},
     "output_type": "execute_result"
    }
   ],
   "source": [
    "lasso.alpha_"
   ]
  },
  {
   "cell_type": "code",
   "execution_count": 15,
   "metadata": {},
   "outputs": [],
   "source": [
    "y_lasso = lasso.predict(X_final)"
   ]
  },
  {
   "cell_type": "code",
   "execution_count": 12,
   "metadata": {
    "scrolled": true
   },
   "outputs": [
    {
     "name": "stderr",
     "output_type": "stream",
     "text": [
      "/anaconda3/lib/python3.6/site-packages/sklearn/model_selection/_split.py:2053: FutureWarning: You should specify a value for 'cv' instead of relying on the default value. The default value will change from 3 to 5 in version 0.22.\n",
      "  warnings.warn(CV_WARNING, FutureWarning)\n"
     ]
    },
    {
     "name": "stdout",
     "output_type": "stream",
     "text": [
      "CPU times: user 14.6 s, sys: 1.09 s, total: 15.7 s\n",
      "Wall time: 7.99 s\n"
     ]
    }
   ],
   "source": [
    "%%time\n",
    "\n",
    "enet = ElasticNetCV(l1_ratio = [.1, .5, .7, .9, .95, .99, 1], n_alphas = 300)\n",
    "enet.fit(X_train, y_train)"
   ]
  },
  {
   "cell_type": "code",
   "execution_count": 14,
   "metadata": {},
   "outputs": [
    {
     "data": {
      "text/plain": [
       "0.8739315731241969"
      ]
     },
     "execution_count": 14,
     "metadata": {},
     "output_type": "execute_result"
    }
   ],
   "source": [
    "enet.score(X_test, y_test)"
   ]
  },
  {
   "cell_type": "code",
   "execution_count": 16,
   "metadata": {},
   "outputs": [],
   "source": [
    "y_enet = enet.predict(X_final)"
   ]
  },
  {
   "cell_type": "code",
   "execution_count": 17,
   "metadata": {},
   "outputs": [
    {
     "name": "stderr",
     "output_type": "stream",
     "text": [
      "/anaconda3/lib/python3.6/site-packages/ipykernel_launcher.py:2: SettingWithCopyWarning: \n",
      "A value is trying to be set on a copy of a slice from a DataFrame.\n",
      "Try using .loc[row_indexer,col_indexer] = value instead\n",
      "\n",
      "See the caveats in the documentation: http://pandas.pydata.org/pandas-docs/stable/indexing.html#indexing-view-versus-copy\n",
      "  \n"
     ]
    }
   ],
   "source": [
    "submission = test[['Id']]\n",
    "submission['SalePrice'] = (y_lasso + y_enet)/2\n",
    "submission.to_csv('../submissions/submission27.csv', index=False)"
   ]
  }
 ],
 "metadata": {
  "kernelspec": {
   "display_name": "Python 3",
   "language": "python",
   "name": "python3"
  },
  "language_info": {
   "codemirror_mode": {
    "name": "ipython",
    "version": 3
   },
   "file_extension": ".py",
   "mimetype": "text/x-python",
   "name": "python",
   "nbconvert_exporter": "python",
   "pygments_lexer": "ipython3",
   "version": "3.6.6"
  }
 },
 "nbformat": 4,
 "nbformat_minor": 2
}

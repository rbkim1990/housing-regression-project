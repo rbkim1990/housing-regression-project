{
 "cells": [
  {
   "cell_type": "markdown",
   "id": "short-employer",
   "metadata": {},
   "source": [
    "# Simple Model for Inference\n",
    "This notebook will prepare the data and train a simple model that will be used for inference. A simple linear regression with Lasso penalization is used to create a model that is explainable."
   ]
  },
  {
   "cell_type": "code",
   "execution_count": 1,
   "id": "biological-eagle",
   "metadata": {},
   "outputs": [],
   "source": [
    "from sklearn.model_selection import train_test_split, cross_val_score\n",
    "from sklearn.metrics import mean_squared_error, mean_absolute_error\n",
    "from sklearn.linear_model import LinearRegression, LassoCV\n",
    "from sklearn.preprocessing import StandardScaler\n",
    "import matplotlib.pyplot as plt\n",
    "from joblib import dump\n",
    "import seaborn as sns\n",
    "import pandas as pd"
   ]
  },
  {
   "cell_type": "code",
   "execution_count": 2,
   "id": "vietnamese-present",
   "metadata": {},
   "outputs": [],
   "source": [
    "train = pd.read_csv('../datasets/train_clean.csv')\n",
    "test = pd.read_csv('../datasets/test_clean.csv')"
   ]
  },
  {
   "cell_type": "markdown",
   "id": "inclusive-employee",
   "metadata": {},
   "source": [
    "## Preparing the data for model training\n",
    "Strategy: Limit selection of columns to use to predict 'SalePrice'. Limiting features can help the model from overfitting, as well as make inference on unknown data points simplified (since less data is required)."
   ]
  },
  {
   "cell_type": "code",
   "execution_count": 3,
   "id": "assigned-stream",
   "metadata": {},
   "outputs": [
    {
     "data": {
      "text/plain": [
       "['SalePrice',\n",
       " 'OverallQual',\n",
       " 'GrLivArea',\n",
       " 'ExterQual',\n",
       " 'KitchenQual',\n",
       " 'GarageCars',\n",
       " 'GarageArea',\n",
       " 'BsmtQual',\n",
       " 'TotalBsmtSF',\n",
       " '1stFlrSF',\n",
       " 'FullBath',\n",
       " 'GarageFinish',\n",
       " 'TotRmsAbvGrd',\n",
       " 'FireplaceQu',\n",
       " 'YearBuilt',\n",
       " 'YearRemodAdd']"
      ]
     },
     "execution_count": 3,
     "metadata": {},
     "output_type": "execute_result"
    }
   ],
   "source": [
    "# Using only the top 14 most correlated columns to predict 'SalePrice'\n",
    "cols_to_predict = list(abs(train.corr()['SalePrice']).sort_values(ascending=False)[:16].index)\n",
    "cols_to_predict"
   ]
  },
  {
   "cell_type": "code",
   "execution_count": 4,
   "id": "alpine-field",
   "metadata": {},
   "outputs": [],
   "source": [
    "# limiting the train and test datasets to the columns used to predict\n",
    "train = train[cols_to_predict]\n",
    "cols_to_predict.remove('SalePrice')\n",
    "ids = test['Id']\n",
    "test = test[cols_to_predict]"
   ]
  },
  {
   "cell_type": "code",
   "execution_count": 5,
   "id": "polar-round",
   "metadata": {},
   "outputs": [
    {
     "data": {
      "text/html": [
       "<div>\n",
       "<style scoped>\n",
       "    .dataframe tbody tr th:only-of-type {\n",
       "        vertical-align: middle;\n",
       "    }\n",
       "\n",
       "    .dataframe tbody tr th {\n",
       "        vertical-align: top;\n",
       "    }\n",
       "\n",
       "    .dataframe thead th {\n",
       "        text-align: right;\n",
       "    }\n",
       "</style>\n",
       "<table border=\"1\" class=\"dataframe\">\n",
       "  <thead>\n",
       "    <tr style=\"text-align: right;\">\n",
       "      <th></th>\n",
       "      <th>SalePrice</th>\n",
       "      <th>OverallQual</th>\n",
       "      <th>GrLivArea</th>\n",
       "      <th>ExterQual</th>\n",
       "      <th>KitchenQual</th>\n",
       "      <th>GarageCars</th>\n",
       "      <th>GarageArea</th>\n",
       "      <th>BsmtQual</th>\n",
       "      <th>TotalBsmtSF</th>\n",
       "      <th>1stFlrSF</th>\n",
       "      <th>FullBath</th>\n",
       "      <th>GarageFinish</th>\n",
       "      <th>TotRmsAbvGrd</th>\n",
       "      <th>FireplaceQu</th>\n",
       "      <th>YearBuilt</th>\n",
       "      <th>YearRemodAdd</th>\n",
       "    </tr>\n",
       "  </thead>\n",
       "  <tbody>\n",
       "    <tr>\n",
       "      <th>0</th>\n",
       "      <td>208500</td>\n",
       "      <td>7</td>\n",
       "      <td>1710</td>\n",
       "      <td>4</td>\n",
       "      <td>4</td>\n",
       "      <td>2</td>\n",
       "      <td>548</td>\n",
       "      <td>4</td>\n",
       "      <td>856</td>\n",
       "      <td>856</td>\n",
       "      <td>2</td>\n",
       "      <td>2</td>\n",
       "      <td>8</td>\n",
       "      <td>1</td>\n",
       "      <td>2003</td>\n",
       "      <td>2003</td>\n",
       "    </tr>\n",
       "    <tr>\n",
       "      <th>1</th>\n",
       "      <td>181500</td>\n",
       "      <td>6</td>\n",
       "      <td>1262</td>\n",
       "      <td>3</td>\n",
       "      <td>3</td>\n",
       "      <td>2</td>\n",
       "      <td>460</td>\n",
       "      <td>4</td>\n",
       "      <td>1262</td>\n",
       "      <td>1262</td>\n",
       "      <td>2</td>\n",
       "      <td>2</td>\n",
       "      <td>6</td>\n",
       "      <td>3</td>\n",
       "      <td>1976</td>\n",
       "      <td>1976</td>\n",
       "    </tr>\n",
       "    <tr>\n",
       "      <th>2</th>\n",
       "      <td>223500</td>\n",
       "      <td>7</td>\n",
       "      <td>1786</td>\n",
       "      <td>4</td>\n",
       "      <td>4</td>\n",
       "      <td>2</td>\n",
       "      <td>608</td>\n",
       "      <td>4</td>\n",
       "      <td>920</td>\n",
       "      <td>920</td>\n",
       "      <td>2</td>\n",
       "      <td>2</td>\n",
       "      <td>6</td>\n",
       "      <td>3</td>\n",
       "      <td>2001</td>\n",
       "      <td>2002</td>\n",
       "    </tr>\n",
       "    <tr>\n",
       "      <th>3</th>\n",
       "      <td>140000</td>\n",
       "      <td>7</td>\n",
       "      <td>1717</td>\n",
       "      <td>3</td>\n",
       "      <td>4</td>\n",
       "      <td>3</td>\n",
       "      <td>642</td>\n",
       "      <td>3</td>\n",
       "      <td>756</td>\n",
       "      <td>961</td>\n",
       "      <td>1</td>\n",
       "      <td>1</td>\n",
       "      <td>7</td>\n",
       "      <td>4</td>\n",
       "      <td>1915</td>\n",
       "      <td>1970</td>\n",
       "    </tr>\n",
       "    <tr>\n",
       "      <th>4</th>\n",
       "      <td>250000</td>\n",
       "      <td>8</td>\n",
       "      <td>2198</td>\n",
       "      <td>4</td>\n",
       "      <td>4</td>\n",
       "      <td>3</td>\n",
       "      <td>836</td>\n",
       "      <td>4</td>\n",
       "      <td>1145</td>\n",
       "      <td>1145</td>\n",
       "      <td>2</td>\n",
       "      <td>2</td>\n",
       "      <td>9</td>\n",
       "      <td>3</td>\n",
       "      <td>2000</td>\n",
       "      <td>2000</td>\n",
       "    </tr>\n",
       "  </tbody>\n",
       "</table>\n",
       "</div>"
      ],
      "text/plain": [
       "   SalePrice  OverallQual  GrLivArea  ExterQual  KitchenQual  GarageCars  \\\n",
       "0     208500            7       1710          4            4           2   \n",
       "1     181500            6       1262          3            3           2   \n",
       "2     223500            7       1786          4            4           2   \n",
       "3     140000            7       1717          3            4           3   \n",
       "4     250000            8       2198          4            4           3   \n",
       "\n",
       "   GarageArea  BsmtQual  TotalBsmtSF  1stFlrSF  FullBath  GarageFinish  \\\n",
       "0         548         4          856       856         2             2   \n",
       "1         460         4         1262      1262         2             2   \n",
       "2         608         4          920       920         2             2   \n",
       "3         642         3          756       961         1             1   \n",
       "4         836         4         1145      1145         2             2   \n",
       "\n",
       "   TotRmsAbvGrd  FireplaceQu  YearBuilt  YearRemodAdd  \n",
       "0             8            1       2003          2003  \n",
       "1             6            3       1976          1976  \n",
       "2             6            3       2001          2002  \n",
       "3             7            4       1915          1970  \n",
       "4             9            3       2000          2000  "
      ]
     },
     "execution_count": 5,
     "metadata": {},
     "output_type": "execute_result"
    }
   ],
   "source": [
    "# looking at the first few rows for the train dataset\n",
    "train.head()"
   ]
  },
  {
   "cell_type": "code",
   "execution_count": 10,
   "id": "minimal-accommodation",
   "metadata": {},
   "outputs": [],
   "source": [
    "# defining the X and y datasets from the train data\n",
    "X = train.drop('SalePrice', axis=1)\n",
    "y = train['SalePrice']"
   ]
  },
  {
   "cell_type": "code",
   "execution_count": 11,
   "id": "significant-venice",
   "metadata": {},
   "outputs": [],
   "source": [
    "# train-validation splitting the data using a random seed for reproducibility\n",
    "X_train, X_val, y_train, y_val = train_test_split(X, y, random_state=0)"
   ]
  },
  {
   "cell_type": "code",
   "execution_count": 12,
   "id": "lovely-artwork",
   "metadata": {},
   "outputs": [],
   "source": [
    "# use standard scale to standardize data (and later help explainability)\n",
    "ss = StandardScaler()\n",
    "X_train = ss.fit_transform(X_train)\n",
    "X_val = ss.transform(X_val)\n",
    "test = ss.transform(test)"
   ]
  },
  {
   "cell_type": "code",
   "execution_count": 13,
   "id": "interpreted-antenna",
   "metadata": {},
   "outputs": [],
   "source": [
    "X_train = pd.DataFrame(X_train, columns = X.columns)\n",
    "test = pd.DataFrame(test, columns=X.columns)"
   ]
  },
  {
   "cell_type": "markdown",
   "id": "coordinated-cuisine",
   "metadata": {},
   "source": [
    "## Training the model\n",
    "Strategy: Train the model using a simple linear regression. This allows for high explainability and simple inference."
   ]
  },
  {
   "cell_type": "code",
   "execution_count": 14,
   "id": "accessible-remark",
   "metadata": {},
   "outputs": [
    {
     "name": "stdout",
     "output_type": "stream",
     "text": [
      "Cross validation R2 score: 0.7512\n"
     ]
    }
   ],
   "source": [
    "# using Lasso regression to train the model\n",
    "lin_reg = LinearRegression()\n",
    "\n",
    "# find the general performance of Lasso regression with cross_val_score\n",
    "print(f'Cross validation R2 score: {round(cross_val_score(lin_reg, X_train, y_train).mean(), 4)}')"
   ]
  },
  {
   "cell_type": "markdown",
   "id": "early-comedy",
   "metadata": {},
   "source": [
    "_Cross validation R2 score is at 0.75, meaning that about 75% of the varaiation in the target can be explained by the model. Generally speaking, the closer the R2 score is to 1, the better._"
   ]
  },
  {
   "cell_type": "code",
   "execution_count": 15,
   "id": "fitted-milton",
   "metadata": {},
   "outputs": [
    {
     "name": "stdout",
     "output_type": "stream",
     "text": [
      "Linear regression R2 on validation data: 0.8303\n"
     ]
    }
   ],
   "source": [
    "# fitting the model\n",
    "lin_reg.fit(X_train, y_train)\n",
    "\n",
    "# scoring the model on the validation data\n",
    "val_score = lin_reg.score(X_val, y_val)\n",
    "print(f'Linear regression R2 on validation data: {round(val_score, 4)}')"
   ]
  },
  {
   "cell_type": "code",
   "execution_count": 16,
   "id": "located-uncertainty",
   "metadata": {},
   "outputs": [
    {
     "name": "stdout",
     "output_type": "stream",
     "text": [
      "GrLivArea 21392.81\n",
      "OverallQual 18839.15\n",
      "BsmtQual 9487.53\n",
      "1stFlrSF 9284.45\n",
      "KitchenQual 9205.78\n",
      "FireplaceQu 5371.14\n",
      "GarageCars 5317.74\n",
      "GarageArea 4967.41\n",
      "ExterQual 4502.97\n",
      "TotalBsmtSF 2313.13\n",
      "YearBuilt 2279.74\n",
      "GarageFinish 1287.96\n",
      "TotRmsAbvGrd 1269.56\n",
      "YearRemodAdd 688.04\n",
      "FullBath -1670.71\n"
     ]
    }
   ],
   "source": [
    "# ordering columns by the magnitude of the coefficients on the variables\n",
    "for col, coef in sorted(zip(X_train.columns, lin_reg.coef_), key = lambda x: x[1], reverse=True):\n",
    "    print(col, round(coef, 2))"
   ]
  },
  {
   "cell_type": "markdown",
   "id": "damaged-pillow",
   "metadata": {},
   "source": [
    "## Evaluation\n",
    "Simple linear regression provides a strong baseline for model prediction. With a R2 score on the validation dataset of 0.83, as well as a cross-validation score with 5-folds of 0.75, the linear regression model should provide a good starting point for inference."
   ]
  },
  {
   "cell_type": "code",
   "execution_count": 17,
   "id": "excellent-aviation",
   "metadata": {},
   "outputs": [],
   "source": [
    "# getting the predictions from linear regression on the validation dataset to plot residuals\n",
    "preds = lin_reg.predict(X_val)"
   ]
  },
  {
   "cell_type": "code",
   "execution_count": 18,
   "id": "breeding-greek",
   "metadata": {},
   "outputs": [],
   "source": [
    "# Looking at RMSE and MAE values to put into original units for expainability\n",
    "rmse = mean_squared_error(y_val, preds) ** 0.5\n",
    "mae = mean_absolute_error(y_val, preds)"
   ]
  },
  {
   "cell_type": "code",
   "execution_count": 19,
   "id": "greenhouse-russia",
   "metadata": {},
   "outputs": [
    {
     "name": "stdout",
     "output_type": "stream",
     "text": [
      "Root Mean Squared Error: 30995.38\n",
      "Mean Absolute Error: 21756.86\n"
     ]
    }
   ],
   "source": [
    "print(f'Root Mean Squared Error: {round(rmse, 2)}')\n",
    "print(f'Mean Absolute Error: {round(mae, 2)}')"
   ]
  },
  {
   "cell_type": "markdown",
   "id": "simplified-bible",
   "metadata": {},
   "source": [
    "_The difference in the two metrics show that there are a few outlier situations that are impacting the model. RMSE is more receptive to outliers while MAE is more resistant to it. However, based on the RMSE, we can say that **on average the 'SalePrice' prediction of the linear regression model is about $31,000 off from the true 'SalePrice' value**._"
   ]
  },
  {
   "cell_type": "code",
   "execution_count": 20,
   "id": "funny-martin",
   "metadata": {},
   "outputs": [
    {
     "data": {
      "image/png": "[encoded data removed]",
      "text/plain": [
       "<Figure size 864x576 with 1 Axes>"
      ]
     },
     "metadata": {
      "needs_background": "light"
     },
     "output_type": "display_data"
    }
   ],
   "source": [
    "# Plotting residuals by finding prediction values minus true values\n",
    "residuals = y_val - preds\n",
    "plt.figure(figsize=(12,8))\n",
    "plt.title('Distribution of residuals of simple linear regression', size=20)\n",
    "residuals.hist()\n",
    "plt.savefig('../images/simple_linear_distribution.png');"
   ]
  },
  {
   "cell_type": "markdown",
   "id": "failing-corner",
   "metadata": {},
   "source": [
    "_Residuals plot is normal, as hoped. This shows that the model is performing decently._"
   ]
  },
  {
   "cell_type": "code",
   "execution_count": 22,
   "id": "adopted-crest",
   "metadata": {},
   "outputs": [
    {
     "data": {
      "image/png": "[encoded data removed]",
      "text/plain": [
       "<Figure size 864x576 with 1 Axes>"
      ]
     },
     "metadata": {
      "needs_background": "light"
     },
     "output_type": "display_data"
    }
   ],
   "source": [
    "plt.figure(figsize=(12,8))\n",
    "plt.title('True SalePrice vs. Predicted SalePrice on Validation Dataset', size=20)\n",
    "plt.ylabel('True SalePrice (in Dollars)', fontsize=15)\n",
    "plt.xlabel('Predicted SalePrice (in Dollars)', fontsize=15)\n",
    "plt.scatter(y_val, preds)\n",
    "plt.savefig('../images/simple_linear_residual.png')\n",
    "plt.show();"
   ]
  },
  {
   "cell_type": "markdown",
   "id": "varied-stretch",
   "metadata": {},
   "source": [
    "_The residual plot shows a logarithmic-like curve. Perhaps later adding a logging function on the SalePrice would increase the performance of the model._"
   ]
  },
  {
   "cell_type": "code",
   "execution_count": 23,
   "id": "accessory-turner",
   "metadata": {},
   "outputs": [
    {
     "data": {
      "text/plain": [
       "['../models/linear_regression.joblib']"
      ]
     },
     "execution_count": 23,
     "metadata": {},
     "output_type": "execute_result"
    }
   ],
   "source": [
    "# saving standard scaler for inference\n",
    "dump(ss, '../models/standard_scaler.joblib')\n",
    "\n",
    "# saving model to use for inference\n",
    "dump(lin_reg, '../models/linear_regression.joblib')"
   ]
  }
 ],
 "metadata": {
  "kernelspec": {
   "display_name": "Python 3",
   "language": "python",
   "name": "python3"
  },
  "language_info": {
   "codemirror_mode": {
    "name": "ipython",
    "version": 3
   },
   "file_extension": ".py",
   "mimetype": "text/x-python",
   "name": "python",
   "nbconvert_exporter": "python",
   "pygments_lexer": "ipython3",
   "version": "3.8.5"
  }
 },
 "nbformat": 4,
 "nbformat_minor": 5
}
